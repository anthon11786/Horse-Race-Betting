{
 "cells": [
  {
   "cell_type": "code",
   "execution_count": 420,
   "metadata": {},
   "outputs": [],
   "source": [
    "using CSV\n",
    "using DataFrames\n",
    "using Plots\n",
    "using Statistics \n",
    "using StatsPlots\n",
    "using Random"
   ]
  },
  {
   "cell_type": "code",
   "execution_count": 421,
   "metadata": {},
   "outputs": [
    {
     "data": {
      "text/plain": [
       "\"Project Goal: \\n\\n1) Predict the probability that a horse wins in a given race\\n2) Predict what the final win dividends will be for a horse in a given race\\n\\nThen, use our predictions to maximize the expected value of betting on races to earn a profit\\n\\n\""
      ]
     },
     "execution_count": 421,
     "metadata": {},
     "output_type": "execute_result"
    }
   ],
   "source": [
    "\"\"\"\n",
    "Project Goal: \n",
    "\n",
    "1) Predict the probability that a horse wins in a given race\n",
    "2) Predict what the final win dividends will be for a horse in a given race\n",
    "\n",
    "Then, use our predictions to maximize the expected value of betting on races to earn a profit\n",
    "\n",
    "\"\"\""
   ]
  },
  {
   "cell_type": "markdown",
   "metadata": {},
   "source": [
    "# Exploratory Data Analysis"
   ]
  },
  {
   "cell_type": "code",
   "execution_count": 422,
   "metadata": {},
   "outputs": [
    {
     "data": {
      "text/html": [
       "<table class=\"data-frame\"><thead><tr><th></th><th>race_id</th><th>horse_no</th><th>horse_id</th><th>result</th><th>won</th><th>lengths_behind</th><th>horse_age</th><th>horse_country</th></tr><tr><th></th><th>Int64</th><th>Int64</th><th>Int64</th><th>Int64</th><th>Float64</th><th>Float64</th><th>Int64</th><th>String?</th></tr></thead><tbody><p>79,447 rows × 37 columns (omitted printing of 29 columns)</p><tr><th>1</th><td>0</td><td>1</td><td>3917</td><td>10</td><td>0.0</td><td>8.0</td><td>3</td><td>AUS</td></tr><tr><th>2</th><td>0</td><td>2</td><td>2157</td><td>8</td><td>0.0</td><td>5.75</td><td>3</td><td>NZ</td></tr><tr><th>3</th><td>0</td><td>3</td><td>858</td><td>7</td><td>0.0</td><td>4.75</td><td>3</td><td>NZ</td></tr><tr><th>4</th><td>0</td><td>4</td><td>1853</td><td>9</td><td>0.0</td><td>6.25</td><td>3</td><td>SAF</td></tr><tr><th>5</th><td>0</td><td>5</td><td>2796</td><td>6</td><td>0.0</td><td>3.75</td><td>3</td><td>GB</td></tr><tr><th>6</th><td>0</td><td>6</td><td>3296</td><td>3</td><td>0.0</td><td>1.25</td><td>3</td><td>NZ</td></tr><tr><th>7</th><td>0</td><td>7</td><td>911</td><td>12</td><td>0.0</td><td>9.5</td><td>3</td><td>NZ</td></tr><tr><th>8</th><td>0</td><td>8</td><td>2170</td><td>1</td><td>1.0</td><td>0.0</td><td>3</td><td>AUS</td></tr><tr><th>9</th><td>0</td><td>9</td><td>1730</td><td>13</td><td>0.0</td><td>9.75</td><td>3</td><td>NZ</td></tr><tr><th>10</th><td>0</td><td>10</td><td>2998</td><td>14</td><td>0.0</td><td>999.0</td><td>3</td><td>AUS</td></tr><tr><th>11</th><td>0</td><td>11</td><td>1733</td><td>2</td><td>0.0</td><td>0.75</td><td>3</td><td>NZ</td></tr><tr><th>12</th><td>0</td><td>12</td><td>2617</td><td>4</td><td>0.0</td><td>2.25</td><td>3</td><td>AUS</td></tr><tr><th>13</th><td>0</td><td>13</td><td>727</td><td>11</td><td>0.0</td><td>8.25</td><td>3</td><td>USA</td></tr><tr><th>14</th><td>0</td><td>14</td><td>306</td><td>5</td><td>0.0</td><td>2.75</td><td>3</td><td>AUS</td></tr><tr><th>15</th><td>1</td><td>1</td><td>2397</td><td>12</td><td>0.0</td><td>10.0</td><td>3</td><td>NZ</td></tr><tr><th>16</th><td>1</td><td>2</td><td>4181</td><td>10</td><td>0.0</td><td>6.75</td><td>3</td><td>NZ</td></tr><tr><th>17</th><td>1</td><td>3</td><td>2814</td><td>8</td><td>0.0</td><td>3.75</td><td>3</td><td>AUS</td></tr><tr><th>18</th><td>1</td><td>4</td><td>905</td><td>3</td><td>0.0</td><td>2.25</td><td>3</td><td>AUS</td></tr><tr><th>19</th><td>1</td><td>5</td><td>3915</td><td>1</td><td>1.0</td><td>0.0</td><td>3</td><td>AUS</td></tr><tr><th>20</th><td>1</td><td>6</td><td>3865</td><td>11</td><td>0.0</td><td>8.5</td><td>3</td><td>NZ</td></tr><tr><th>21</th><td>1</td><td>7</td><td>1926</td><td>14</td><td>0.0</td><td>21.75</td><td>3</td><td>NZ</td></tr><tr><th>22</th><td>1</td><td>8</td><td>2330</td><td>5</td><td>0.0</td><td>2.75</td><td>3</td><td>NZ</td></tr><tr><th>23</th><td>1</td><td>9</td><td>3744</td><td>9</td><td>0.0</td><td>6.25</td><td>3</td><td>NZ</td></tr><tr><th>24</th><td>1</td><td>10</td><td>2772</td><td>4</td><td>0.0</td><td>2.5</td><td>3</td><td>AUS</td></tr><tr><th>25</th><td>1</td><td>11</td><td>550</td><td>13</td><td>0.0</td><td>13.5</td><td>3</td><td>USA</td></tr><tr><th>26</th><td>1</td><td>12</td><td>4244</td><td>7</td><td>0.0</td><td>3.25</td><td>3</td><td>AUS</td></tr><tr><th>27</th><td>1</td><td>13</td><td>3605</td><td>2</td><td>0.0</td><td>1.25</td><td>3</td><td>AUS</td></tr><tr><th>28</th><td>1</td><td>14</td><td>2813</td><td>6</td><td>0.0</td><td>2.75</td><td>3</td><td>AUS</td></tr><tr><th>29</th><td>2</td><td>1</td><td>2306</td><td>2</td><td>0.0</td><td>0.1</td><td>3</td><td>NZ</td></tr><tr><th>30</th><td>2</td><td>2</td><td>2650</td><td>10</td><td>0.0</td><td>3.75</td><td>3</td><td>NZ</td></tr><tr><th>&vellip;</th><td>&vellip;</td><td>&vellip;</td><td>&vellip;</td><td>&vellip;</td><td>&vellip;</td><td>&vellip;</td><td>&vellip;</td><td>&vellip;</td></tr></tbody></table>"
      ],
      "text/latex": [
       "\\begin{tabular}{r|ccccccccc}\n",
       "\t& race\\_id & horse\\_no & horse\\_id & result & won & lengths\\_behind & horse\\_age & horse\\_country & \\\\\n",
       "\t\\hline\n",
       "\t& Int64 & Int64 & Int64 & Int64 & Float64 & Float64 & Int64 & String? & \\\\\n",
       "\t\\hline\n",
       "\t1 & 0 & 1 & 3917 & 10 & 0.0 & 8.0 & 3 & AUS & $\\dots$ \\\\\n",
       "\t2 & 0 & 2 & 2157 & 8 & 0.0 & 5.75 & 3 & NZ & $\\dots$ \\\\\n",
       "\t3 & 0 & 3 & 858 & 7 & 0.0 & 4.75 & 3 & NZ & $\\dots$ \\\\\n",
       "\t4 & 0 & 4 & 1853 & 9 & 0.0 & 6.25 & 3 & SAF & $\\dots$ \\\\\n",
       "\t5 & 0 & 5 & 2796 & 6 & 0.0 & 3.75 & 3 & GB & $\\dots$ \\\\\n",
       "\t6 & 0 & 6 & 3296 & 3 & 0.0 & 1.25 & 3 & NZ & $\\dots$ \\\\\n",
       "\t7 & 0 & 7 & 911 & 12 & 0.0 & 9.5 & 3 & NZ & $\\dots$ \\\\\n",
       "\t8 & 0 & 8 & 2170 & 1 & 1.0 & 0.0 & 3 & AUS & $\\dots$ \\\\\n",
       "\t9 & 0 & 9 & 1730 & 13 & 0.0 & 9.75 & 3 & NZ & $\\dots$ \\\\\n",
       "\t10 & 0 & 10 & 2998 & 14 & 0.0 & 999.0 & 3 & AUS & $\\dots$ \\\\\n",
       "\t11 & 0 & 11 & 1733 & 2 & 0.0 & 0.75 & 3 & NZ & $\\dots$ \\\\\n",
       "\t12 & 0 & 12 & 2617 & 4 & 0.0 & 2.25 & 3 & AUS & $\\dots$ \\\\\n",
       "\t13 & 0 & 13 & 727 & 11 & 0.0 & 8.25 & 3 & USA & $\\dots$ \\\\\n",
       "\t14 & 0 & 14 & 306 & 5 & 0.0 & 2.75 & 3 & AUS & $\\dots$ \\\\\n",
       "\t15 & 1 & 1 & 2397 & 12 & 0.0 & 10.0 & 3 & NZ & $\\dots$ \\\\\n",
       "\t16 & 1 & 2 & 4181 & 10 & 0.0 & 6.75 & 3 & NZ & $\\dots$ \\\\\n",
       "\t17 & 1 & 3 & 2814 & 8 & 0.0 & 3.75 & 3 & AUS & $\\dots$ \\\\\n",
       "\t18 & 1 & 4 & 905 & 3 & 0.0 & 2.25 & 3 & AUS & $\\dots$ \\\\\n",
       "\t19 & 1 & 5 & 3915 & 1 & 1.0 & 0.0 & 3 & AUS & $\\dots$ \\\\\n",
       "\t20 & 1 & 6 & 3865 & 11 & 0.0 & 8.5 & 3 & NZ & $\\dots$ \\\\\n",
       "\t21 & 1 & 7 & 1926 & 14 & 0.0 & 21.75 & 3 & NZ & $\\dots$ \\\\\n",
       "\t22 & 1 & 8 & 2330 & 5 & 0.0 & 2.75 & 3 & NZ & $\\dots$ \\\\\n",
       "\t23 & 1 & 9 & 3744 & 9 & 0.0 & 6.25 & 3 & NZ & $\\dots$ \\\\\n",
       "\t24 & 1 & 10 & 2772 & 4 & 0.0 & 2.5 & 3 & AUS & $\\dots$ \\\\\n",
       "\t25 & 1 & 11 & 550 & 13 & 0.0 & 13.5 & 3 & USA & $\\dots$ \\\\\n",
       "\t26 & 1 & 12 & 4244 & 7 & 0.0 & 3.25 & 3 & AUS & $\\dots$ \\\\\n",
       "\t27 & 1 & 13 & 3605 & 2 & 0.0 & 1.25 & 3 & AUS & $\\dots$ \\\\\n",
       "\t28 & 1 & 14 & 2813 & 6 & 0.0 & 2.75 & 3 & AUS & $\\dots$ \\\\\n",
       "\t29 & 2 & 1 & 2306 & 2 & 0.0 & 0.1 & 3 & NZ & $\\dots$ \\\\\n",
       "\t30 & 2 & 2 & 2650 & 10 & 0.0 & 3.75 & 3 & NZ & $\\dots$ \\\\\n",
       "\t$\\dots$ & $\\dots$ & $\\dots$ & $\\dots$ & $\\dots$ & $\\dots$ & $\\dots$ & $\\dots$ & $\\dots$ &  \\\\\n",
       "\\end{tabular}\n"
      ],
      "text/plain": [
       "79447×37 DataFrame. Omitted printing of 31 columns\n",
       "│ Row   │ race_id │ horse_no │ horse_id │ result │ won     │ lengths_behind │\n",
       "│       │ \u001b[90mInt64\u001b[39m   │ \u001b[90mInt64\u001b[39m    │ \u001b[90mInt64\u001b[39m    │ \u001b[90mInt64\u001b[39m  │ \u001b[90mFloat64\u001b[39m │ \u001b[90mFloat64\u001b[39m        │\n",
       "├───────┼─────────┼──────────┼──────────┼────────┼─────────┼────────────────┤\n",
       "│ 1     │ 0       │ 1        │ 3917     │ 10     │ 0.0     │ 8.0            │\n",
       "│ 2     │ 0       │ 2        │ 2157     │ 8      │ 0.0     │ 5.75           │\n",
       "│ 3     │ 0       │ 3        │ 858      │ 7      │ 0.0     │ 4.75           │\n",
       "│ 4     │ 0       │ 4        │ 1853     │ 9      │ 0.0     │ 6.25           │\n",
       "│ 5     │ 0       │ 5        │ 2796     │ 6      │ 0.0     │ 3.75           │\n",
       "│ 6     │ 0       │ 6        │ 3296     │ 3      │ 0.0     │ 1.25           │\n",
       "│ 7     │ 0       │ 7        │ 911      │ 12     │ 0.0     │ 9.5            │\n",
       "│ 8     │ 0       │ 8        │ 2170     │ 1      │ 1.0     │ 0.0            │\n",
       "│ 9     │ 0       │ 9        │ 1730     │ 13     │ 0.0     │ 9.75           │\n",
       "│ 10    │ 0       │ 10       │ 2998     │ 14     │ 0.0     │ 999.0          │\n",
       "⋮\n",
       "│ 79437 │ 6348    │ 4        │ 1698     │ 2      │ 0.0     │ 0.2            │\n",
       "│ 79438 │ 6348    │ 5        │ 3368     │ 5      │ 0.0     │ 1.25           │\n",
       "│ 79439 │ 6348    │ 6        │ 1793     │ 12     │ 0.0     │ 4.75           │\n",
       "│ 79440 │ 6348    │ 7        │ 833      │ 4      │ 0.0     │ 0.75           │\n",
       "│ 79441 │ 6348    │ 8        │ 932      │ 3      │ 0.0     │ 0.5            │\n",
       "│ 79442 │ 6348    │ 9        │ 940      │ 14     │ 0.0     │ 5.5            │\n",
       "│ 79443 │ 6348    │ 10       │ 1238     │ 6      │ 0.0     │ 1.25           │\n",
       "│ 79444 │ 6348    │ 11       │ 985      │ 7      │ 0.0     │ 2.25           │\n",
       "│ 79445 │ 6348    │ 12       │ 3147     │ 10     │ 0.0     │ 3.0            │\n",
       "│ 79446 │ 6348    │ 13       │ 1982     │ 8      │ 0.0     │ 2.5            │\n",
       "│ 79447 │ 6348    │ 14       │ 3491     │ 11     │ 0.0     │ 4.25           │"
      ]
     },
     "execution_count": 422,
     "metadata": {},
     "output_type": "execute_result"
    }
   ],
   "source": [
    "# Load in our data\n",
    "\n",
    "races = CSV.read(\"races.csv\")\n",
    "runs = CSV.read(\"runs.csv\")"
   ]
  },
  {
   "cell_type": "code",
   "execution_count": 423,
   "metadata": {},
   "outputs": [
    {
     "name": "stdout",
     "output_type": "stream",
     "text": [
      "(79447, 37)(6349, 37)"
     ]
    }
   ],
   "source": [
    "print(size(runs), size(races))"
   ]
  },
  {
   "cell_type": "code",
   "execution_count": 424,
   "metadata": {},
   "outputs": [
    {
     "data": {
      "text/plain": [
       "summary_stats (generic function with 1 method)"
      ]
     },
     "execution_count": 424,
     "metadata": {},
     "output_type": "execute_result"
    }
   ],
   "source": [
    "function summary_stats(arr)\n",
    "    clean_arr = skipmissing(arr)\n",
    "    print(\"missing: $(mean(ismissing.(arr)))%\\n\")\n",
    "    print(\"maximum: $(maximum(clean_arr))\\n\")\n",
    "    print(\"minimum: $(minimum(clean_arr))\\n\")\n",
    "    print(\"median:  $(median(clean_arr))\\n\")\n",
    "    print(\"mean:    $(mean(clean_arr))\\n\")\n",
    "    print(\"std:     $(std(clean_arr))\\n\")\n",
    "end"
   ]
  },
  {
   "cell_type": "code",
   "execution_count": 425,
   "metadata": {},
   "outputs": [
    {
     "data": {
      "image/png": "[encoded data removed]"
     },
     "execution_count": 425,
     "metadata": {},
     "output_type": "execute_result"
    }
   ],
   "source": [
    "density(runs[:actual_weight], group=runs[:won], labels= [\"Lost\" \"Won\"])\n",
    "xlabel!(\"Weight Carried By Horse (lbs)\")"
   ]
  },
  {
   "cell_type": "code",
   "execution_count": 426,
   "metadata": {},
   "outputs": [
    {
     "data": {
      "text/html": [
       "<table class=\"data-frame\"><thead><tr><th></th><th>horse_type</th><th>nrow</th></tr><tr><th></th><th>String?</th><th>Int64</th></tr></thead><tbody><p>10 rows × 2 columns</p><tr><th>1</th><td>Gelding</td><td>75503</td></tr><tr><th>2</th><td>Mare</td><td>238</td></tr><tr><th>3</th><td>Horse</td><td>1093</td></tr><tr><th>4</th><td>Brown</td><td>2044</td></tr><tr><th>5</th><td>Rig</td><td>154</td></tr><tr><th>6</th><td>Colt</td><td>305</td></tr><tr><th>7</th><td><em>missing</em></td><td>2</td></tr><tr><th>8</th><td>Roan</td><td>48</td></tr><tr><th>9</th><td>Filly</td><td>43</td></tr><tr><th>10</th><td>Grey</td><td>17</td></tr></tbody></table>"
      ],
      "text/latex": [
       "\\begin{tabular}{r|cc}\n",
       "\t& horse\\_type & nrow\\\\\n",
       "\t\\hline\n",
       "\t& String? & Int64\\\\\n",
       "\t\\hline\n",
       "\t1 & Gelding & 75503 \\\\\n",
       "\t2 & Mare & 238 \\\\\n",
       "\t3 & Horse & 1093 \\\\\n",
       "\t4 & Brown & 2044 \\\\\n",
       "\t5 & Rig & 154 \\\\\n",
       "\t6 & Colt & 305 \\\\\n",
       "\t7 & \\emph{missing} & 2 \\\\\n",
       "\t8 & Roan & 48 \\\\\n",
       "\t9 & Filly & 43 \\\\\n",
       "\t10 & Grey & 17 \\\\\n",
       "\\end{tabular}\n"
      ],
      "text/plain": [
       "10×2 DataFrame\n",
       "│ Row │ horse_type │ nrow  │\n",
       "│     │ \u001b[90mString?\u001b[39m    │ \u001b[90mInt64\u001b[39m │\n",
       "├─────┼────────────┼───────┤\n",
       "│ 1   │ Gelding    │ 75503 │\n",
       "│ 2   │ Mare       │ 238   │\n",
       "│ 3   │ Horse      │ 1093  │\n",
       "│ 4   │ Brown      │ 2044  │\n",
       "│ 5   │ Rig        │ 154   │\n",
       "│ 6   │ Colt       │ 305   │\n",
       "│ 7   │ \u001b[90mmissing\u001b[39m    │ 2     │\n",
       "│ 8   │ Roan       │ 48    │\n",
       "│ 9   │ Filly      │ 43    │\n",
       "│ 10  │ Grey       │ 17    │"
      ]
     },
     "execution_count": 426,
     "metadata": {},
     "output_type": "execute_result"
    }
   ],
   "source": [
    "temp_hist = by(runs, :horse_type, nrow )\n",
    "temp_hist"
   ]
  },
  {
   "cell_type": "code",
   "execution_count": 427,
   "metadata": {},
   "outputs": [
    {
     "data": {
      "image/png": "[encoded data removed]"
     },
     "execution_count": 427,
     "metadata": {},
     "output_type": "execute_result"
    }
   ],
   "source": [
    "boxplot(runs[:draw], runs[:result], label=\"\")\n",
    "xlabel!(\"Draw\")\n",
    "ylabel!(\"Result\")"
   ]
  },
  {
   "cell_type": "code",
   "execution_count": 428,
   "metadata": {},
   "outputs": [
    {
     "data": {
      "image/png": "[encoded data removed]"
     },
     "execution_count": 428,
     "metadata": {},
     "output_type": "execute_result"
    }
   ],
   "source": [
    "temp_hist = by(races, :going, nrow )\n",
    "dropmissing!(temp_hist)\n",
    "bar(temp_hist[:nrow], group=temp_hist[:going])\n",
    "xlabel!(\"Going\")\n",
    "ylabel!(\"Number of Races\")"
   ]
  },
  {
   "cell_type": "markdown",
   "metadata": {},
   "source": [
    "# Preprocessing Data"
   ]
  },
  {
   "cell_type": "code",
   "execution_count": 429,
   "metadata": {},
   "outputs": [
    {
     "data": {
      "text/html": [
       "<table class=\"data-frame\"><thead><tr><th></th><th>race_id</th><th>date</th><th>venue</th><th>race_no</th><th>config</th><th>surface</th><th>distance</th><th>going</th><th>horse_ratings</th></tr><tr><th></th><th>Int64</th><th>Date</th><th>String</th><th>Int64</th><th>String</th><th>Int64</th><th>Int64</th><th>String</th><th>String</th></tr></thead><tbody><p>79,447 rows × 66 columns (omitted printing of 57 columns)</p><tr><th>1</th><td>0</td><td>1997-06-02</td><td>ST</td><td>1</td><td>A</td><td>0</td><td>1400</td><td>GOOD TO FIRM</td><td>40-15</td></tr><tr><th>2</th><td>0</td><td>1997-06-02</td><td>ST</td><td>1</td><td>A</td><td>0</td><td>1400</td><td>GOOD TO FIRM</td><td>40-15</td></tr><tr><th>3</th><td>0</td><td>1997-06-02</td><td>ST</td><td>1</td><td>A</td><td>0</td><td>1400</td><td>GOOD TO FIRM</td><td>40-15</td></tr><tr><th>4</th><td>0</td><td>1997-06-02</td><td>ST</td><td>1</td><td>A</td><td>0</td><td>1400</td><td>GOOD TO FIRM</td><td>40-15</td></tr><tr><th>5</th><td>0</td><td>1997-06-02</td><td>ST</td><td>1</td><td>A</td><td>0</td><td>1400</td><td>GOOD TO FIRM</td><td>40-15</td></tr><tr><th>6</th><td>0</td><td>1997-06-02</td><td>ST</td><td>1</td><td>A</td><td>0</td><td>1400</td><td>GOOD TO FIRM</td><td>40-15</td></tr><tr><th>7</th><td>0</td><td>1997-06-02</td><td>ST</td><td>1</td><td>A</td><td>0</td><td>1400</td><td>GOOD TO FIRM</td><td>40-15</td></tr><tr><th>8</th><td>0</td><td>1997-06-02</td><td>ST</td><td>1</td><td>A</td><td>0</td><td>1400</td><td>GOOD TO FIRM</td><td>40-15</td></tr><tr><th>9</th><td>0</td><td>1997-06-02</td><td>ST</td><td>1</td><td>A</td><td>0</td><td>1400</td><td>GOOD TO FIRM</td><td>40-15</td></tr><tr><th>10</th><td>0</td><td>1997-06-02</td><td>ST</td><td>1</td><td>A</td><td>0</td><td>1400</td><td>GOOD TO FIRM</td><td>40-15</td></tr><tr><th>11</th><td>0</td><td>1997-06-02</td><td>ST</td><td>1</td><td>A</td><td>0</td><td>1400</td><td>GOOD TO FIRM</td><td>40-15</td></tr><tr><th>12</th><td>0</td><td>1997-06-02</td><td>ST</td><td>1</td><td>A</td><td>0</td><td>1400</td><td>GOOD TO FIRM</td><td>40-15</td></tr><tr><th>13</th><td>0</td><td>1997-06-02</td><td>ST</td><td>1</td><td>A</td><td>0</td><td>1400</td><td>GOOD TO FIRM</td><td>40-15</td></tr><tr><th>14</th><td>0</td><td>1997-06-02</td><td>ST</td><td>1</td><td>A</td><td>0</td><td>1400</td><td>GOOD TO FIRM</td><td>40-15</td></tr><tr><th>15</th><td>1</td><td>1997-06-02</td><td>ST</td><td>2</td><td>A</td><td>0</td><td>1200</td><td>GOOD TO FIRM</td><td>40-15</td></tr><tr><th>16</th><td>1</td><td>1997-06-02</td><td>ST</td><td>2</td><td>A</td><td>0</td><td>1200</td><td>GOOD TO FIRM</td><td>40-15</td></tr><tr><th>17</th><td>1</td><td>1997-06-02</td><td>ST</td><td>2</td><td>A</td><td>0</td><td>1200</td><td>GOOD TO FIRM</td><td>40-15</td></tr><tr><th>18</th><td>1</td><td>1997-06-02</td><td>ST</td><td>2</td><td>A</td><td>0</td><td>1200</td><td>GOOD TO FIRM</td><td>40-15</td></tr><tr><th>19</th><td>1</td><td>1997-06-02</td><td>ST</td><td>2</td><td>A</td><td>0</td><td>1200</td><td>GOOD TO FIRM</td><td>40-15</td></tr><tr><th>20</th><td>1</td><td>1997-06-02</td><td>ST</td><td>2</td><td>A</td><td>0</td><td>1200</td><td>GOOD TO FIRM</td><td>40-15</td></tr><tr><th>21</th><td>1</td><td>1997-06-02</td><td>ST</td><td>2</td><td>A</td><td>0</td><td>1200</td><td>GOOD TO FIRM</td><td>40-15</td></tr><tr><th>22</th><td>1</td><td>1997-06-02</td><td>ST</td><td>2</td><td>A</td><td>0</td><td>1200</td><td>GOOD TO FIRM</td><td>40-15</td></tr><tr><th>23</th><td>1</td><td>1997-06-02</td><td>ST</td><td>2</td><td>A</td><td>0</td><td>1200</td><td>GOOD TO FIRM</td><td>40-15</td></tr><tr><th>24</th><td>1</td><td>1997-06-02</td><td>ST</td><td>2</td><td>A</td><td>0</td><td>1200</td><td>GOOD TO FIRM</td><td>40-15</td></tr><tr><th>25</th><td>1</td><td>1997-06-02</td><td>ST</td><td>2</td><td>A</td><td>0</td><td>1200</td><td>GOOD TO FIRM</td><td>40-15</td></tr><tr><th>26</th><td>1</td><td>1997-06-02</td><td>ST</td><td>2</td><td>A</td><td>0</td><td>1200</td><td>GOOD TO FIRM</td><td>40-15</td></tr><tr><th>27</th><td>1</td><td>1997-06-02</td><td>ST</td><td>2</td><td>A</td><td>0</td><td>1200</td><td>GOOD TO FIRM</td><td>40-15</td></tr><tr><th>28</th><td>1</td><td>1997-06-02</td><td>ST</td><td>2</td><td>A</td><td>0</td><td>1200</td><td>GOOD TO FIRM</td><td>40-15</td></tr><tr><th>29</th><td>2</td><td>1997-06-02</td><td>ST</td><td>3</td><td>A</td><td>0</td><td>1400</td><td>GOOD TO FIRM</td><td>60-40</td></tr><tr><th>30</th><td>2</td><td>1997-06-02</td><td>ST</td><td>3</td><td>A</td><td>0</td><td>1400</td><td>GOOD TO FIRM</td><td>60-40</td></tr><tr><th>&vellip;</th><td>&vellip;</td><td>&vellip;</td><td>&vellip;</td><td>&vellip;</td><td>&vellip;</td><td>&vellip;</td><td>&vellip;</td><td>&vellip;</td><td>&vellip;</td></tr></tbody></table>"
      ],
      "text/latex": [
       "\\begin{tabular}{r|cccccccccc}\n",
       "\t& race\\_id & date & venue & race\\_no & config & surface & distance & going & horse\\_ratings & \\\\\n",
       "\t\\hline\n",
       "\t& Int64 & Date & String & Int64 & String & Int64 & Int64 & String & String & \\\\\n",
       "\t\\hline\n",
       "\t1 & 0 & 1997-06-02 & ST & 1 & A & 0 & 1400 & GOOD TO FIRM & 40-15 & $\\dots$ \\\\\n",
       "\t2 & 0 & 1997-06-02 & ST & 1 & A & 0 & 1400 & GOOD TO FIRM & 40-15 & $\\dots$ \\\\\n",
       "\t3 & 0 & 1997-06-02 & ST & 1 & A & 0 & 1400 & GOOD TO FIRM & 40-15 & $\\dots$ \\\\\n",
       "\t4 & 0 & 1997-06-02 & ST & 1 & A & 0 & 1400 & GOOD TO FIRM & 40-15 & $\\dots$ \\\\\n",
       "\t5 & 0 & 1997-06-02 & ST & 1 & A & 0 & 1400 & GOOD TO FIRM & 40-15 & $\\dots$ \\\\\n",
       "\t6 & 0 & 1997-06-02 & ST & 1 & A & 0 & 1400 & GOOD TO FIRM & 40-15 & $\\dots$ \\\\\n",
       "\t7 & 0 & 1997-06-02 & ST & 1 & A & 0 & 1400 & GOOD TO FIRM & 40-15 & $\\dots$ \\\\\n",
       "\t8 & 0 & 1997-06-02 & ST & 1 & A & 0 & 1400 & GOOD TO FIRM & 40-15 & $\\dots$ \\\\\n",
       "\t9 & 0 & 1997-06-02 & ST & 1 & A & 0 & 1400 & GOOD TO FIRM & 40-15 & $\\dots$ \\\\\n",
       "\t10 & 0 & 1997-06-02 & ST & 1 & A & 0 & 1400 & GOOD TO FIRM & 40-15 & $\\dots$ \\\\\n",
       "\t11 & 0 & 1997-06-02 & ST & 1 & A & 0 & 1400 & GOOD TO FIRM & 40-15 & $\\dots$ \\\\\n",
       "\t12 & 0 & 1997-06-02 & ST & 1 & A & 0 & 1400 & GOOD TO FIRM & 40-15 & $\\dots$ \\\\\n",
       "\t13 & 0 & 1997-06-02 & ST & 1 & A & 0 & 1400 & GOOD TO FIRM & 40-15 & $\\dots$ \\\\\n",
       "\t14 & 0 & 1997-06-02 & ST & 1 & A & 0 & 1400 & GOOD TO FIRM & 40-15 & $\\dots$ \\\\\n",
       "\t15 & 1 & 1997-06-02 & ST & 2 & A & 0 & 1200 & GOOD TO FIRM & 40-15 & $\\dots$ \\\\\n",
       "\t16 & 1 & 1997-06-02 & ST & 2 & A & 0 & 1200 & GOOD TO FIRM & 40-15 & $\\dots$ \\\\\n",
       "\t17 & 1 & 1997-06-02 & ST & 2 & A & 0 & 1200 & GOOD TO FIRM & 40-15 & $\\dots$ \\\\\n",
       "\t18 & 1 & 1997-06-02 & ST & 2 & A & 0 & 1200 & GOOD TO FIRM & 40-15 & $\\dots$ \\\\\n",
       "\t19 & 1 & 1997-06-02 & ST & 2 & A & 0 & 1200 & GOOD TO FIRM & 40-15 & $\\dots$ \\\\\n",
       "\t20 & 1 & 1997-06-02 & ST & 2 & A & 0 & 1200 & GOOD TO FIRM & 40-15 & $\\dots$ \\\\\n",
       "\t21 & 1 & 1997-06-02 & ST & 2 & A & 0 & 1200 & GOOD TO FIRM & 40-15 & $\\dots$ \\\\\n",
       "\t22 & 1 & 1997-06-02 & ST & 2 & A & 0 & 1200 & GOOD TO FIRM & 40-15 & $\\dots$ \\\\\n",
       "\t23 & 1 & 1997-06-02 & ST & 2 & A & 0 & 1200 & GOOD TO FIRM & 40-15 & $\\dots$ \\\\\n",
       "\t24 & 1 & 1997-06-02 & ST & 2 & A & 0 & 1200 & GOOD TO FIRM & 40-15 & $\\dots$ \\\\\n",
       "\t25 & 1 & 1997-06-02 & ST & 2 & A & 0 & 1200 & GOOD TO FIRM & 40-15 & $\\dots$ \\\\\n",
       "\t26 & 1 & 1997-06-02 & ST & 2 & A & 0 & 1200 & GOOD TO FIRM & 40-15 & $\\dots$ \\\\\n",
       "\t27 & 1 & 1997-06-02 & ST & 2 & A & 0 & 1200 & GOOD TO FIRM & 40-15 & $\\dots$ \\\\\n",
       "\t28 & 1 & 1997-06-02 & ST & 2 & A & 0 & 1200 & GOOD TO FIRM & 40-15 & $\\dots$ \\\\\n",
       "\t29 & 2 & 1997-06-02 & ST & 3 & A & 0 & 1400 & GOOD TO FIRM & 60-40 & $\\dots$ \\\\\n",
       "\t30 & 2 & 1997-06-02 & ST & 3 & A & 0 & 1400 & GOOD TO FIRM & 60-40 & $\\dots$ \\\\\n",
       "\t$\\dots$ & $\\dots$ & $\\dots$ & $\\dots$ & $\\dots$ & $\\dots$ & $\\dots$ & $\\dots$ & $\\dots$ & $\\dots$ &  \\\\\n",
       "\\end{tabular}\n"
      ],
      "text/plain": [
       "79447×66 DataFrame. Omitted printing of 60 columns\n",
       "│ Row   │ race_id │ date       │ venue  │ race_no │ config │ surface │\n",
       "│       │ \u001b[90mInt64\u001b[39m   │ \u001b[90mDate\u001b[39m       │ \u001b[90mString\u001b[39m │ \u001b[90mInt64\u001b[39m   │ \u001b[90mString\u001b[39m │ \u001b[90mInt64\u001b[39m   │\n",
       "├───────┼─────────┼────────────┼────────┼─────────┼────────┼─────────┤\n",
       "│ 1     │ 0       │ 1997-06-02 │ ST     │ 1       │ A      │ 0       │\n",
       "│ 2     │ 0       │ 1997-06-02 │ ST     │ 1       │ A      │ 0       │\n",
       "│ 3     │ 0       │ 1997-06-02 │ ST     │ 1       │ A      │ 0       │\n",
       "│ 4     │ 0       │ 1997-06-02 │ ST     │ 1       │ A      │ 0       │\n",
       "│ 5     │ 0       │ 1997-06-02 │ ST     │ 1       │ A      │ 0       │\n",
       "│ 6     │ 0       │ 1997-06-02 │ ST     │ 1       │ A      │ 0       │\n",
       "│ 7     │ 0       │ 1997-06-02 │ ST     │ 1       │ A      │ 0       │\n",
       "│ 8     │ 0       │ 1997-06-02 │ ST     │ 1       │ A      │ 0       │\n",
       "│ 9     │ 0       │ 1997-06-02 │ ST     │ 1       │ A      │ 0       │\n",
       "│ 10    │ 0       │ 1997-06-02 │ ST     │ 1       │ A      │ 0       │\n",
       "⋮\n",
       "│ 79437 │ 6348    │ 2005-08-28 │ ST     │ 10      │ A      │ 0       │\n",
       "│ 79438 │ 6348    │ 2005-08-28 │ ST     │ 10      │ A      │ 0       │\n",
       "│ 79439 │ 6348    │ 2005-08-28 │ ST     │ 10      │ A      │ 0       │\n",
       "│ 79440 │ 6348    │ 2005-08-28 │ ST     │ 10      │ A      │ 0       │\n",
       "│ 79441 │ 6348    │ 2005-08-28 │ ST     │ 10      │ A      │ 0       │\n",
       "│ 79442 │ 6348    │ 2005-08-28 │ ST     │ 10      │ A      │ 0       │\n",
       "│ 79443 │ 6348    │ 2005-08-28 │ ST     │ 10      │ A      │ 0       │\n",
       "│ 79444 │ 6348    │ 2005-08-28 │ ST     │ 10      │ A      │ 0       │\n",
       "│ 79445 │ 6348    │ 2005-08-28 │ ST     │ 10      │ A      │ 0       │\n",
       "│ 79446 │ 6348    │ 2005-08-28 │ ST     │ 10      │ A      │ 0       │\n",
       "│ 79447 │ 6348    │ 2005-08-28 │ ST     │ 10      │ A      │ 0       │"
      ]
     },
     "execution_count": 429,
     "metadata": {},
     "output_type": "execute_result"
    }
   ],
   "source": [
    "# Inner join races and runs to get full dataset \n",
    "select!(races, Not(:time1))\n",
    "select!(races, Not(:time2))\n",
    "select!(races, Not(:time3))\n",
    "select!(races, Not(:time4))\n",
    "select!(races, Not(:time5))\n",
    "select!(races, Not(:time6))\n",
    "select!(races, Not(:time7))\n",
    "\n",
    "full_data = innerjoin(races, runs, on =:race_id)"
   ]
  },
  {
   "cell_type": "code",
   "execution_count": 430,
   "metadata": {},
   "outputs": [
    {
     "name": "stdout",
     "output_type": "stream",
     "text": [
      "Base.Generator{Array{Any,1},typeof(identity)}(identity, Any[\"prize\", \"sec_time4\", \"sec_time5\", \"sec_time6\", \"sec_time7\", \"place_combination3\", \"place_combination4\", \"place_dividend3\", \"place_dividend4\", \"win_combination2\", \"win_dividend2\", \"horse_country\", \"horse_type\", \"position_sec4\", \"position_sec5\", \"position_sec6\", \"behind_sec4\", \"behind_sec5\", \"behind_sec6\", \"time4\", \"time5\", \"time6\", \"place_odds\"])"
     ]
    }
   ],
   "source": [
    "# Getting the column names in our dataset that have at least one missing entry \n",
    "\n",
    "cols_missing = colwise(x -> any(ismissing.(x)), full_data)\n",
    "cols_with_missing = []\n",
    "for i=1:66\n",
    "    if cols_missing[i] > 0\n",
    "        append!(cols_with_missing, i)\n",
    "    end\n",
    "end\n",
    "\n",
    "names_list = names(full_data)\n",
    "col_names_missing =[]\n",
    "for i in cols_with_missing\n",
    "    push!(col_names_missing, String(names_list[i]))\n",
    "end\n",
    "\n",
    "print(x for x in col_names_missing)"
   ]
  },
  {
   "cell_type": "code",
   "execution_count": 431,
   "metadata": {},
   "outputs": [
    {
     "name": "stdout",
     "output_type": "stream",
     "text": [
      "prize\n",
      "missing: 0.07362140798268028%\n",
      "maximum: 2.5e7\n",
      "minimum: 485000.0\n",
      "median:  800000.0\n",
      "mean:    1.117460528818718e6\n",
      "std:     1.7347670152607828e6\n",
      "\n",
      "sec_time4\n",
      "missing: 0.4181529824914723%\n",
      "maximum: 28.92\n",
      "minimum: 21.4\n",
      "median:  23.76\n",
      "mean:    23.841666161899663\n",
      "std:     0.801872692835738\n",
      "\n",
      "sec_time5\n",
      "missing: 0.8731355494858207%\n",
      "maximum: 26.5\n",
      "minimum: 21.81\n",
      "median:  23.83\n",
      "mean:    23.87469887885699\n",
      "std:     0.7450271642038292\n",
      "\n",
      "sec_time6\n",
      "missing: 0.9836872380329025%\n",
      "maximum: 25.92\n",
      "minimum: 21.77\n",
      "median:  24.03\n",
      "mean:    23.934236111111105\n",
      "std:     0.6605929498312835\n",
      "\n",
      "sec_time7\n",
      "missing: 1.0%\n",
      "***************************Empty array***************************\n",
      "place_combination3\n",
      "missing: 0.001762181076692638%\n",
      "maximum: 14.0\n",
      "minimum: 1.0\n",
      "median:  6.0\n",
      "mean:    6.583983759315067\n",
      "std:     3.7615102585466706\n",
      "\n",
      "place_combination4\n",
      "missing: 0.9963371807620175%\n",
      "maximum: 14.0\n",
      "minimum: 4.0\n",
      "median:  8.0\n",
      "mean:    8.391752577319588\n",
      "std:     2.914494222511631\n",
      "\n",
      "place_dividend3\n",
      "missing: 0.001762181076692638%\n",
      "maximum: 420.5\n",
      "minimum: 10.1\n",
      "median:  27.5\n",
      "mean:    39.460330109574365\n",
      "std:     37.759506524122656\n",
      "\n",
      "place_dividend4\n",
      "missing: 0.9963371807620175%\n",
      "maximum: 68.0\n",
      "minimum: 10.1\n",
      "median:  15.5\n",
      "mean:    22.163230240549808\n",
      "std:     16.665263953295593\n",
      "\n",
      "win_combination2\n",
      "missing: 0.9980867748310194%\n",
      "maximum: 12.0\n",
      "minimum: 3.0\n",
      "median:  8.0\n",
      "mean:    8.052631578947368\n",
      "std:     3.2261133889661044\n",
      "\n",
      "win_dividend2\n",
      "missing: 0.9980867748310194%\n",
      "maximum: 282.5\n",
      "minimum: 12.0\n",
      "median:  65.0\n",
      "mean:    103.47368421052632\n",
      "std:     98.40825541262569\n",
      "\n",
      "horse_country\n",
      "missing: 2.51740153813234e-5%\n",
      "maximum: ZIM\n",
      "minimum: ARG\n",
      "***************************Empty array***************************\n",
      "horse_type\n",
      "missing: 2.51740153813234e-5%\n",
      "maximum: Roan\n",
      "minimum: Brown\n",
      "***************************Empty array***************************\n",
      "position_sec4\n",
      "missing: 0.4181529824914723%\n",
      "maximum: 14.0\n",
      "minimum: 1.0\n",
      "median:  7.0\n",
      "mean:    6.94555012330723\n",
      "std:     3.7921382614639287\n",
      "\n",
      "position_sec5\n",
      "missing: 0.8731355494858207%\n",
      "maximum: 14.0\n",
      "minimum: 1.0\n",
      "median:  7.0\n",
      "mean:    6.748387736878659\n",
      "std:     3.7023604419215532\n",
      "\n",
      "position_sec6\n",
      "missing: 0.9836872380329025%\n",
      "maximum: 14.0\n",
      "minimum: 1.0\n",
      "median:  6.0\n",
      "mean:    6.253086419753086\n",
      "std:     3.4261077631739862\n",
      "\n",
      "behind_sec4\n",
      "missing: 0.4181529824914723%\n",
      "maximum: 999.0\n",
      "minimum: 0.0\n",
      "median:  3.75\n",
      "mean:    5.992075888028376\n",
      "std:     33.99108400335343\n",
      "\n",
      "behind_sec5\n",
      "missing: 0.8731355494858207%\n",
      "maximum: 999.0\n",
      "minimum: 0.1\n",
      "median:  3.75\n",
      "mean:    6.026654430002986\n",
      "std:     31.754623279167493\n",
      "\n",
      "behind_sec6\n",
      "missing: 0.9836872380329025%\n",
      "maximum: 999.0\n",
      "minimum: 0.0\n",
      "median:  4.25\n",
      "mean:    10.63873456790123\n",
      "std:     67.79125201547777\n",
      "\n",
      "time4\n",
      "missing: 0.4181529824914723%\n",
      "maximum: 999.0\n",
      "minimum: 21.2\n",
      "median:  23.89\n",
      "mean:    24.03966166226796\n",
      "std:     4.663366930023012\n",
      "\n",
      "time5\n",
      "missing: 0.8731355494858207%\n",
      "maximum: 49.57\n",
      "minimum: 21.42\n",
      "median:  23.96\n",
      "mean:    24.10522075602738\n",
      "std:     1.1279630593280732\n",
      "\n",
      "time6\n",
      "missing: 0.9836872380329025%\n",
      "maximum: 34.15\n",
      "minimum: 21.5\n",
      "median:  24.12\n",
      "mean:    24.35021604938271\n",
      "std:     1.3147550939804806\n",
      "\n",
      "place_odds\n",
      "missing: 0.047012473724621445%\n",
      "maximum: 101.0\n",
      "minimum: 1.0\n",
      "median:  4.1\n",
      "mean:    7.423177303465718\n",
      "std:     8.823429889330196\n",
      "\n"
     ]
    }
   ],
   "source": [
    "# Now we need to address these missing values \n",
    "# Lets look out percent of missing in each column.\n",
    "\n",
    "for name in col_names_missing \n",
    "    try\n",
    "        print(name)\n",
    "        print(\"\\n\")\n",
    "        summary_stats(full_data[name])\n",
    "        print(\"\\n\")\n",
    "    catch\n",
    "        print(\"***************************\")\n",
    "        print(\"Empty array\")\n",
    "        print(\"***************************\\n\")\n",
    "    end\n",
    "    \n",
    "end"
   ]
  },
  {
   "cell_type": "code",
   "execution_count": 432,
   "metadata": {},
   "outputs": [
    {
     "data": {
      "text/html": [
       "<table class=\"data-frame\"><thead><tr><th></th><th>date</th><th>venue</th><th>race_no</th><th>config</th><th>surface</th><th>distance</th><th>going</th><th>horse_ratings</th></tr><tr><th></th><th>Date</th><th>String</th><th>Int64</th><th>String</th><th>Int64</th><th>Int64</th><th>String</th><th>String</th></tr></thead><tbody><p>79,447 rows × 22 columns (omitted printing of 14 columns)</p><tr><th>1</th><td>1997-06-02</td><td>ST</td><td>1</td><td>A</td><td>0</td><td>1400</td><td>GOOD TO FIRM</td><td>40-15</td></tr><tr><th>2</th><td>1997-06-02</td><td>ST</td><td>1</td><td>A</td><td>0</td><td>1400</td><td>GOOD TO FIRM</td><td>40-15</td></tr><tr><th>3</th><td>1997-06-02</td><td>ST</td><td>1</td><td>A</td><td>0</td><td>1400</td><td>GOOD TO FIRM</td><td>40-15</td></tr><tr><th>4</th><td>1997-06-02</td><td>ST</td><td>1</td><td>A</td><td>0</td><td>1400</td><td>GOOD TO FIRM</td><td>40-15</td></tr><tr><th>5</th><td>1997-06-02</td><td>ST</td><td>1</td><td>A</td><td>0</td><td>1400</td><td>GOOD TO FIRM</td><td>40-15</td></tr><tr><th>6</th><td>1997-06-02</td><td>ST</td><td>1</td><td>A</td><td>0</td><td>1400</td><td>GOOD TO FIRM</td><td>40-15</td></tr><tr><th>7</th><td>1997-06-02</td><td>ST</td><td>1</td><td>A</td><td>0</td><td>1400</td><td>GOOD TO FIRM</td><td>40-15</td></tr><tr><th>8</th><td>1997-06-02</td><td>ST</td><td>1</td><td>A</td><td>0</td><td>1400</td><td>GOOD TO FIRM</td><td>40-15</td></tr><tr><th>9</th><td>1997-06-02</td><td>ST</td><td>1</td><td>A</td><td>0</td><td>1400</td><td>GOOD TO FIRM</td><td>40-15</td></tr><tr><th>10</th><td>1997-06-02</td><td>ST</td><td>1</td><td>A</td><td>0</td><td>1400</td><td>GOOD TO FIRM</td><td>40-15</td></tr><tr><th>11</th><td>1997-06-02</td><td>ST</td><td>1</td><td>A</td><td>0</td><td>1400</td><td>GOOD TO FIRM</td><td>40-15</td></tr><tr><th>12</th><td>1997-06-02</td><td>ST</td><td>1</td><td>A</td><td>0</td><td>1400</td><td>GOOD TO FIRM</td><td>40-15</td></tr><tr><th>13</th><td>1997-06-02</td><td>ST</td><td>1</td><td>A</td><td>0</td><td>1400</td><td>GOOD TO FIRM</td><td>40-15</td></tr><tr><th>14</th><td>1997-06-02</td><td>ST</td><td>1</td><td>A</td><td>0</td><td>1400</td><td>GOOD TO FIRM</td><td>40-15</td></tr><tr><th>15</th><td>1997-06-02</td><td>ST</td><td>2</td><td>A</td><td>0</td><td>1200</td><td>GOOD TO FIRM</td><td>40-15</td></tr><tr><th>16</th><td>1997-06-02</td><td>ST</td><td>2</td><td>A</td><td>0</td><td>1200</td><td>GOOD TO FIRM</td><td>40-15</td></tr><tr><th>17</th><td>1997-06-02</td><td>ST</td><td>2</td><td>A</td><td>0</td><td>1200</td><td>GOOD TO FIRM</td><td>40-15</td></tr><tr><th>18</th><td>1997-06-02</td><td>ST</td><td>2</td><td>A</td><td>0</td><td>1200</td><td>GOOD TO FIRM</td><td>40-15</td></tr><tr><th>19</th><td>1997-06-02</td><td>ST</td><td>2</td><td>A</td><td>0</td><td>1200</td><td>GOOD TO FIRM</td><td>40-15</td></tr><tr><th>20</th><td>1997-06-02</td><td>ST</td><td>2</td><td>A</td><td>0</td><td>1200</td><td>GOOD TO FIRM</td><td>40-15</td></tr><tr><th>21</th><td>1997-06-02</td><td>ST</td><td>2</td><td>A</td><td>0</td><td>1200</td><td>GOOD TO FIRM</td><td>40-15</td></tr><tr><th>22</th><td>1997-06-02</td><td>ST</td><td>2</td><td>A</td><td>0</td><td>1200</td><td>GOOD TO FIRM</td><td>40-15</td></tr><tr><th>23</th><td>1997-06-02</td><td>ST</td><td>2</td><td>A</td><td>0</td><td>1200</td><td>GOOD TO FIRM</td><td>40-15</td></tr><tr><th>24</th><td>1997-06-02</td><td>ST</td><td>2</td><td>A</td><td>0</td><td>1200</td><td>GOOD TO FIRM</td><td>40-15</td></tr><tr><th>25</th><td>1997-06-02</td><td>ST</td><td>2</td><td>A</td><td>0</td><td>1200</td><td>GOOD TO FIRM</td><td>40-15</td></tr><tr><th>26</th><td>1997-06-02</td><td>ST</td><td>2</td><td>A</td><td>0</td><td>1200</td><td>GOOD TO FIRM</td><td>40-15</td></tr><tr><th>27</th><td>1997-06-02</td><td>ST</td><td>2</td><td>A</td><td>0</td><td>1200</td><td>GOOD TO FIRM</td><td>40-15</td></tr><tr><th>28</th><td>1997-06-02</td><td>ST</td><td>2</td><td>A</td><td>0</td><td>1200</td><td>GOOD TO FIRM</td><td>40-15</td></tr><tr><th>29</th><td>1997-06-02</td><td>ST</td><td>3</td><td>A</td><td>0</td><td>1400</td><td>GOOD TO FIRM</td><td>60-40</td></tr><tr><th>30</th><td>1997-06-02</td><td>ST</td><td>3</td><td>A</td><td>0</td><td>1400</td><td>GOOD TO FIRM</td><td>60-40</td></tr><tr><th>&vellip;</th><td>&vellip;</td><td>&vellip;</td><td>&vellip;</td><td>&vellip;</td><td>&vellip;</td><td>&vellip;</td><td>&vellip;</td><td>&vellip;</td></tr></tbody></table>"
      ],
      "text/latex": [
       "\\begin{tabular}{r|ccccccccc}\n",
       "\t& date & venue & race\\_no & config & surface & distance & going & horse\\_ratings & \\\\\n",
       "\t\\hline\n",
       "\t& Date & String & Int64 & String & Int64 & Int64 & String & String & \\\\\n",
       "\t\\hline\n",
       "\t1 & 1997-06-02 & ST & 1 & A & 0 & 1400 & GOOD TO FIRM & 40-15 & $\\dots$ \\\\\n",
       "\t2 & 1997-06-02 & ST & 1 & A & 0 & 1400 & GOOD TO FIRM & 40-15 & $\\dots$ \\\\\n",
       "\t3 & 1997-06-02 & ST & 1 & A & 0 & 1400 & GOOD TO FIRM & 40-15 & $\\dots$ \\\\\n",
       "\t4 & 1997-06-02 & ST & 1 & A & 0 & 1400 & GOOD TO FIRM & 40-15 & $\\dots$ \\\\\n",
       "\t5 & 1997-06-02 & ST & 1 & A & 0 & 1400 & GOOD TO FIRM & 40-15 & $\\dots$ \\\\\n",
       "\t6 & 1997-06-02 & ST & 1 & A & 0 & 1400 & GOOD TO FIRM & 40-15 & $\\dots$ \\\\\n",
       "\t7 & 1997-06-02 & ST & 1 & A & 0 & 1400 & GOOD TO FIRM & 40-15 & $\\dots$ \\\\\n",
       "\t8 & 1997-06-02 & ST & 1 & A & 0 & 1400 & GOOD TO FIRM & 40-15 & $\\dots$ \\\\\n",
       "\t9 & 1997-06-02 & ST & 1 & A & 0 & 1400 & GOOD TO FIRM & 40-15 & $\\dots$ \\\\\n",
       "\t10 & 1997-06-02 & ST & 1 & A & 0 & 1400 & GOOD TO FIRM & 40-15 & $\\dots$ \\\\\n",
       "\t11 & 1997-06-02 & ST & 1 & A & 0 & 1400 & GOOD TO FIRM & 40-15 & $\\dots$ \\\\\n",
       "\t12 & 1997-06-02 & ST & 1 & A & 0 & 1400 & GOOD TO FIRM & 40-15 & $\\dots$ \\\\\n",
       "\t13 & 1997-06-02 & ST & 1 & A & 0 & 1400 & GOOD TO FIRM & 40-15 & $\\dots$ \\\\\n",
       "\t14 & 1997-06-02 & ST & 1 & A & 0 & 1400 & GOOD TO FIRM & 40-15 & $\\dots$ \\\\\n",
       "\t15 & 1997-06-02 & ST & 2 & A & 0 & 1200 & GOOD TO FIRM & 40-15 & $\\dots$ \\\\\n",
       "\t16 & 1997-06-02 & ST & 2 & A & 0 & 1200 & GOOD TO FIRM & 40-15 & $\\dots$ \\\\\n",
       "\t17 & 1997-06-02 & ST & 2 & A & 0 & 1200 & GOOD TO FIRM & 40-15 & $\\dots$ \\\\\n",
       "\t18 & 1997-06-02 & ST & 2 & A & 0 & 1200 & GOOD TO FIRM & 40-15 & $\\dots$ \\\\\n",
       "\t19 & 1997-06-02 & ST & 2 & A & 0 & 1200 & GOOD TO FIRM & 40-15 & $\\dots$ \\\\\n",
       "\t20 & 1997-06-02 & ST & 2 & A & 0 & 1200 & GOOD TO FIRM & 40-15 & $\\dots$ \\\\\n",
       "\t21 & 1997-06-02 & ST & 2 & A & 0 & 1200 & GOOD TO FIRM & 40-15 & $\\dots$ \\\\\n",
       "\t22 & 1997-06-02 & ST & 2 & A & 0 & 1200 & GOOD TO FIRM & 40-15 & $\\dots$ \\\\\n",
       "\t23 & 1997-06-02 & ST & 2 & A & 0 & 1200 & GOOD TO FIRM & 40-15 & $\\dots$ \\\\\n",
       "\t24 & 1997-06-02 & ST & 2 & A & 0 & 1200 & GOOD TO FIRM & 40-15 & $\\dots$ \\\\\n",
       "\t25 & 1997-06-02 & ST & 2 & A & 0 & 1200 & GOOD TO FIRM & 40-15 & $\\dots$ \\\\\n",
       "\t26 & 1997-06-02 & ST & 2 & A & 0 & 1200 & GOOD TO FIRM & 40-15 & $\\dots$ \\\\\n",
       "\t27 & 1997-06-02 & ST & 2 & A & 0 & 1200 & GOOD TO FIRM & 40-15 & $\\dots$ \\\\\n",
       "\t28 & 1997-06-02 & ST & 2 & A & 0 & 1200 & GOOD TO FIRM & 40-15 & $\\dots$ \\\\\n",
       "\t29 & 1997-06-02 & ST & 3 & A & 0 & 1400 & GOOD TO FIRM & 60-40 & $\\dots$ \\\\\n",
       "\t30 & 1997-06-02 & ST & 3 & A & 0 & 1400 & GOOD TO FIRM & 60-40 & $\\dots$ \\\\\n",
       "\t$\\dots$ & $\\dots$ & $\\dots$ & $\\dots$ & $\\dots$ & $\\dots$ & $\\dots$ & $\\dots$ & $\\dots$ &  \\\\\n",
       "\\end{tabular}\n"
      ],
      "text/plain": [
       "79447×22 DataFrame. Omitted printing of 16 columns\n",
       "│ Row   │ date       │ venue  │ race_no │ config │ surface │ distance │\n",
       "│       │ \u001b[90mDate\u001b[39m       │ \u001b[90mString\u001b[39m │ \u001b[90mInt64\u001b[39m   │ \u001b[90mString\u001b[39m │ \u001b[90mInt64\u001b[39m   │ \u001b[90mInt64\u001b[39m    │\n",
       "├───────┼────────────┼────────┼─────────┼────────┼─────────┼──────────┤\n",
       "│ 1     │ 1997-06-02 │ ST     │ 1       │ A      │ 0       │ 1400     │\n",
       "│ 2     │ 1997-06-02 │ ST     │ 1       │ A      │ 0       │ 1400     │\n",
       "│ 3     │ 1997-06-02 │ ST     │ 1       │ A      │ 0       │ 1400     │\n",
       "│ 4     │ 1997-06-02 │ ST     │ 1       │ A      │ 0       │ 1400     │\n",
       "│ 5     │ 1997-06-02 │ ST     │ 1       │ A      │ 0       │ 1400     │\n",
       "│ 6     │ 1997-06-02 │ ST     │ 1       │ A      │ 0       │ 1400     │\n",
       "│ 7     │ 1997-06-02 │ ST     │ 1       │ A      │ 0       │ 1400     │\n",
       "│ 8     │ 1997-06-02 │ ST     │ 1       │ A      │ 0       │ 1400     │\n",
       "│ 9     │ 1997-06-02 │ ST     │ 1       │ A      │ 0       │ 1400     │\n",
       "│ 10    │ 1997-06-02 │ ST     │ 1       │ A      │ 0       │ 1400     │\n",
       "⋮\n",
       "│ 79437 │ 2005-08-28 │ ST     │ 10      │ A      │ 0       │ 1600     │\n",
       "│ 79438 │ 2005-08-28 │ ST     │ 10      │ A      │ 0       │ 1600     │\n",
       "│ 79439 │ 2005-08-28 │ ST     │ 10      │ A      │ 0       │ 1600     │\n",
       "│ 79440 │ 2005-08-28 │ ST     │ 10      │ A      │ 0       │ 1600     │\n",
       "│ 79441 │ 2005-08-28 │ ST     │ 10      │ A      │ 0       │ 1600     │\n",
       "│ 79442 │ 2005-08-28 │ ST     │ 10      │ A      │ 0       │ 1600     │\n",
       "│ 79443 │ 2005-08-28 │ ST     │ 10      │ A      │ 0       │ 1600     │\n",
       "│ 79444 │ 2005-08-28 │ ST     │ 10      │ A      │ 0       │ 1600     │\n",
       "│ 79445 │ 2005-08-28 │ ST     │ 10      │ A      │ 0       │ 1600     │\n",
       "│ 79446 │ 2005-08-28 │ ST     │ 10      │ A      │ 0       │ 1600     │\n",
       "│ 79447 │ 2005-08-28 │ ST     │ 10      │ A      │ 0       │ 1600     │"
      ]
     },
     "execution_count": 432,
     "metadata": {},
     "output_type": "execute_result"
    }
   ],
   "source": [
    "\"\"\"\n",
    "We are removing the following columns from the dataset:\n",
    "\n",
    "    horse_id\n",
    "    horse_gear\n",
    "    race_id\n",
    "\n",
    "    sec_time1\n",
    "    sec_time2\n",
    "    sec_time3\n",
    "    sec_time4\n",
    "    sec_time5\n",
    "    sec_time6\n",
    "    sec_time7\n",
    "\n",
    "    time1\n",
    "    time2\n",
    "    time3\n",
    "    time4\n",
    "    time5\n",
    "    time6\n",
    "    \n",
    "    place_combination1 \n",
    "    place_combination2\n",
    "    place_combination3\n",
    "    place_combination4 \n",
    "\n",
    "    place_dividend1\n",
    "    place_dividend2\n",
    "    place_dividend3\n",
    "    place_dividend4 \n",
    "\n",
    "    win_combination1\n",
    "    win_combination2 \n",
    "    \n",
    "    win_dividend2\n",
    "\n",
    "    place_odds\n",
    "\n",
    "    position_sec1\n",
    "    position_sec2\n",
    "    position_sec3\n",
    "    position_sec4\n",
    "    position_sec5\n",
    "    position_sec6\n",
    "    \n",
    "    behind_sec1\n",
    "    behind_sec2\n",
    "    behind_sec3\n",
    "    behind_sec4\n",
    "    behind_sec5\n",
    "    behind_sec6\n",
    "\n",
    "    result\n",
    "    lengths_behind\n",
    "    finish_time\n",
    "    win_odds\n",
    "\"\"\"\n",
    "\n",
    "select!(full_data, Not(:horse_id))\n",
    "select!(full_data, Not(:horse_gear))\n",
    "select!(full_data, Not(:race_id))\n",
    "\n",
    "select!(full_data, Not(:sec_time1))\n",
    "select!(full_data, Not(:sec_time2))\n",
    "select!(full_data, Not(:sec_time3))\n",
    "select!(full_data, Not(:sec_time4))\n",
    "select!(full_data, Not(:sec_time5))\n",
    "select!(full_data, Not(:sec_time6))\n",
    "select!(full_data, Not(:sec_time7))\n",
    "\n",
    "select!(full_data, Not(:time1))\n",
    "select!(full_data, Not(:time2))\n",
    "select!(full_data, Not(:time3))\n",
    "select!(full_data, Not(:time4))\n",
    "select!(full_data, Not(:time5))\n",
    "select!(full_data, Not(:time6))\n",
    "                            \n",
    "select!(full_data, Not(:place_combination1))\n",
    "select!(full_data, Not(:place_combination2))\n",
    "select!(full_data, Not(:place_combination3))\n",
    "select!(full_data, Not(:place_combination4))\n",
    "\n",
    "select!(full_data, Not(:place_dividend1))\n",
    "select!(full_data, Not(:place_dividend2))\n",
    "select!(full_data, Not(:place_dividend3))\n",
    "select!(full_data, Not(:place_dividend4))\n",
    "\n",
    "select!(full_data, Not(:win_combination1))   \n",
    "select!(full_data, Not(:win_combination2))\n",
    "\n",
    "select!(full_data, Not(:win_dividend2))\n",
    "\n",
    "select!(full_data, Not(:place_odds))\n",
    "\n",
    "select!(full_data, Not(:position_sec1))\n",
    "select!(full_data, Not(:position_sec2))\n",
    "select!(full_data, Not(:position_sec3))\n",
    "select!(full_data, Not(:position_sec4))\n",
    "select!(full_data, Not(:position_sec5))\n",
    "select!(full_data, Not(:position_sec6))\n",
    "\n",
    "select!(full_data, Not(:behind_sec1))\n",
    "select!(full_data, Not(:behind_sec2))\n",
    "select!(full_data, Not(:behind_sec3))\n",
    "select!(full_data, Not(:behind_sec4))\n",
    "select!(full_data, Not(:behind_sec5))\n",
    "select!(full_data, Not(:behind_sec6))\n",
    "\n",
    "\n",
    "select!(full_data, Not(:result))\n",
    "select!(full_data, Not(:lengths_behind))\n",
    "select!(full_data, Not(:finish_time))\n",
    "select!(full_data, Not(:win_odds))"
   ]
  },
  {
   "cell_type": "code",
   "execution_count": 433,
   "metadata": {},
   "outputs": [
    {
     "data": {
      "text/html": [
       "<table class=\"data-frame\"><thead><tr><th></th><th>date</th><th>venue</th><th>race_no</th><th>config</th><th>surface</th><th>distance</th><th>going</th><th>horse_ratings</th></tr><tr><th></th><th>Date</th><th>String</th><th>Int64</th><th>String</th><th>Int64</th><th>Int64</th><th>String</th><th>String</th></tr></thead><tbody><p>79,445 rows × 22 columns (omitted printing of 14 columns)</p><tr><th>1</th><td>1997-06-02</td><td>ST</td><td>1</td><td>A</td><td>0</td><td>1400</td><td>GOOD TO FIRM</td><td>40-15</td></tr><tr><th>2</th><td>1997-06-02</td><td>ST</td><td>1</td><td>A</td><td>0</td><td>1400</td><td>GOOD TO FIRM</td><td>40-15</td></tr><tr><th>3</th><td>1997-06-02</td><td>ST</td><td>1</td><td>A</td><td>0</td><td>1400</td><td>GOOD TO FIRM</td><td>40-15</td></tr><tr><th>4</th><td>1997-06-02</td><td>ST</td><td>1</td><td>A</td><td>0</td><td>1400</td><td>GOOD TO FIRM</td><td>40-15</td></tr><tr><th>5</th><td>1997-06-02</td><td>ST</td><td>1</td><td>A</td><td>0</td><td>1400</td><td>GOOD TO FIRM</td><td>40-15</td></tr><tr><th>6</th><td>1997-06-02</td><td>ST</td><td>1</td><td>A</td><td>0</td><td>1400</td><td>GOOD TO FIRM</td><td>40-15</td></tr><tr><th>7</th><td>1997-06-02</td><td>ST</td><td>1</td><td>A</td><td>0</td><td>1400</td><td>GOOD TO FIRM</td><td>40-15</td></tr><tr><th>8</th><td>1997-06-02</td><td>ST</td><td>1</td><td>A</td><td>0</td><td>1400</td><td>GOOD TO FIRM</td><td>40-15</td></tr><tr><th>9</th><td>1997-06-02</td><td>ST</td><td>1</td><td>A</td><td>0</td><td>1400</td><td>GOOD TO FIRM</td><td>40-15</td></tr><tr><th>10</th><td>1997-06-02</td><td>ST</td><td>1</td><td>A</td><td>0</td><td>1400</td><td>GOOD TO FIRM</td><td>40-15</td></tr><tr><th>11</th><td>1997-06-02</td><td>ST</td><td>1</td><td>A</td><td>0</td><td>1400</td><td>GOOD TO FIRM</td><td>40-15</td></tr><tr><th>12</th><td>1997-06-02</td><td>ST</td><td>1</td><td>A</td><td>0</td><td>1400</td><td>GOOD TO FIRM</td><td>40-15</td></tr><tr><th>13</th><td>1997-06-02</td><td>ST</td><td>1</td><td>A</td><td>0</td><td>1400</td><td>GOOD TO FIRM</td><td>40-15</td></tr><tr><th>14</th><td>1997-06-02</td><td>ST</td><td>1</td><td>A</td><td>0</td><td>1400</td><td>GOOD TO FIRM</td><td>40-15</td></tr><tr><th>15</th><td>1997-06-02</td><td>ST</td><td>2</td><td>A</td><td>0</td><td>1200</td><td>GOOD TO FIRM</td><td>40-15</td></tr><tr><th>16</th><td>1997-06-02</td><td>ST</td><td>2</td><td>A</td><td>0</td><td>1200</td><td>GOOD TO FIRM</td><td>40-15</td></tr><tr><th>17</th><td>1997-06-02</td><td>ST</td><td>2</td><td>A</td><td>0</td><td>1200</td><td>GOOD TO FIRM</td><td>40-15</td></tr><tr><th>18</th><td>1997-06-02</td><td>ST</td><td>2</td><td>A</td><td>0</td><td>1200</td><td>GOOD TO FIRM</td><td>40-15</td></tr><tr><th>19</th><td>1997-06-02</td><td>ST</td><td>2</td><td>A</td><td>0</td><td>1200</td><td>GOOD TO FIRM</td><td>40-15</td></tr><tr><th>20</th><td>1997-06-02</td><td>ST</td><td>2</td><td>A</td><td>0</td><td>1200</td><td>GOOD TO FIRM</td><td>40-15</td></tr><tr><th>21</th><td>1997-06-02</td><td>ST</td><td>2</td><td>A</td><td>0</td><td>1200</td><td>GOOD TO FIRM</td><td>40-15</td></tr><tr><th>22</th><td>1997-06-02</td><td>ST</td><td>2</td><td>A</td><td>0</td><td>1200</td><td>GOOD TO FIRM</td><td>40-15</td></tr><tr><th>23</th><td>1997-06-02</td><td>ST</td><td>2</td><td>A</td><td>0</td><td>1200</td><td>GOOD TO FIRM</td><td>40-15</td></tr><tr><th>24</th><td>1997-06-02</td><td>ST</td><td>2</td><td>A</td><td>0</td><td>1200</td><td>GOOD TO FIRM</td><td>40-15</td></tr><tr><th>25</th><td>1997-06-02</td><td>ST</td><td>2</td><td>A</td><td>0</td><td>1200</td><td>GOOD TO FIRM</td><td>40-15</td></tr><tr><th>26</th><td>1997-06-02</td><td>ST</td><td>2</td><td>A</td><td>0</td><td>1200</td><td>GOOD TO FIRM</td><td>40-15</td></tr><tr><th>27</th><td>1997-06-02</td><td>ST</td><td>2</td><td>A</td><td>0</td><td>1200</td><td>GOOD TO FIRM</td><td>40-15</td></tr><tr><th>28</th><td>1997-06-02</td><td>ST</td><td>2</td><td>A</td><td>0</td><td>1200</td><td>GOOD TO FIRM</td><td>40-15</td></tr><tr><th>29</th><td>1997-06-02</td><td>ST</td><td>3</td><td>A</td><td>0</td><td>1400</td><td>GOOD TO FIRM</td><td>60-40</td></tr><tr><th>30</th><td>1997-06-02</td><td>ST</td><td>3</td><td>A</td><td>0</td><td>1400</td><td>GOOD TO FIRM</td><td>60-40</td></tr><tr><th>&vellip;</th><td>&vellip;</td><td>&vellip;</td><td>&vellip;</td><td>&vellip;</td><td>&vellip;</td><td>&vellip;</td><td>&vellip;</td><td>&vellip;</td></tr></tbody></table>"
      ],
      "text/latex": [
       "\\begin{tabular}{r|ccccccccc}\n",
       "\t& date & venue & race\\_no & config & surface & distance & going & horse\\_ratings & \\\\\n",
       "\t\\hline\n",
       "\t& Date & String & Int64 & String & Int64 & Int64 & String & String & \\\\\n",
       "\t\\hline\n",
       "\t1 & 1997-06-02 & ST & 1 & A & 0 & 1400 & GOOD TO FIRM & 40-15 & $\\dots$ \\\\\n",
       "\t2 & 1997-06-02 & ST & 1 & A & 0 & 1400 & GOOD TO FIRM & 40-15 & $\\dots$ \\\\\n",
       "\t3 & 1997-06-02 & ST & 1 & A & 0 & 1400 & GOOD TO FIRM & 40-15 & $\\dots$ \\\\\n",
       "\t4 & 1997-06-02 & ST & 1 & A & 0 & 1400 & GOOD TO FIRM & 40-15 & $\\dots$ \\\\\n",
       "\t5 & 1997-06-02 & ST & 1 & A & 0 & 1400 & GOOD TO FIRM & 40-15 & $\\dots$ \\\\\n",
       "\t6 & 1997-06-02 & ST & 1 & A & 0 & 1400 & GOOD TO FIRM & 40-15 & $\\dots$ \\\\\n",
       "\t7 & 1997-06-02 & ST & 1 & A & 0 & 1400 & GOOD TO FIRM & 40-15 & $\\dots$ \\\\\n",
       "\t8 & 1997-06-02 & ST & 1 & A & 0 & 1400 & GOOD TO FIRM & 40-15 & $\\dots$ \\\\\n",
       "\t9 & 1997-06-02 & ST & 1 & A & 0 & 1400 & GOOD TO FIRM & 40-15 & $\\dots$ \\\\\n",
       "\t10 & 1997-06-02 & ST & 1 & A & 0 & 1400 & GOOD TO FIRM & 40-15 & $\\dots$ \\\\\n",
       "\t11 & 1997-06-02 & ST & 1 & A & 0 & 1400 & GOOD TO FIRM & 40-15 & $\\dots$ \\\\\n",
       "\t12 & 1997-06-02 & ST & 1 & A & 0 & 1400 & GOOD TO FIRM & 40-15 & $\\dots$ \\\\\n",
       "\t13 & 1997-06-02 & ST & 1 & A & 0 & 1400 & GOOD TO FIRM & 40-15 & $\\dots$ \\\\\n",
       "\t14 & 1997-06-02 & ST & 1 & A & 0 & 1400 & GOOD TO FIRM & 40-15 & $\\dots$ \\\\\n",
       "\t15 & 1997-06-02 & ST & 2 & A & 0 & 1200 & GOOD TO FIRM & 40-15 & $\\dots$ \\\\\n",
       "\t16 & 1997-06-02 & ST & 2 & A & 0 & 1200 & GOOD TO FIRM & 40-15 & $\\dots$ \\\\\n",
       "\t17 & 1997-06-02 & ST & 2 & A & 0 & 1200 & GOOD TO FIRM & 40-15 & $\\dots$ \\\\\n",
       "\t18 & 1997-06-02 & ST & 2 & A & 0 & 1200 & GOOD TO FIRM & 40-15 & $\\dots$ \\\\\n",
       "\t19 & 1997-06-02 & ST & 2 & A & 0 & 1200 & GOOD TO FIRM & 40-15 & $\\dots$ \\\\\n",
       "\t20 & 1997-06-02 & ST & 2 & A & 0 & 1200 & GOOD TO FIRM & 40-15 & $\\dots$ \\\\\n",
       "\t21 & 1997-06-02 & ST & 2 & A & 0 & 1200 & GOOD TO FIRM & 40-15 & $\\dots$ \\\\\n",
       "\t22 & 1997-06-02 & ST & 2 & A & 0 & 1200 & GOOD TO FIRM & 40-15 & $\\dots$ \\\\\n",
       "\t23 & 1997-06-02 & ST & 2 & A & 0 & 1200 & GOOD TO FIRM & 40-15 & $\\dots$ \\\\\n",
       "\t24 & 1997-06-02 & ST & 2 & A & 0 & 1200 & GOOD TO FIRM & 40-15 & $\\dots$ \\\\\n",
       "\t25 & 1997-06-02 & ST & 2 & A & 0 & 1200 & GOOD TO FIRM & 40-15 & $\\dots$ \\\\\n",
       "\t26 & 1997-06-02 & ST & 2 & A & 0 & 1200 & GOOD TO FIRM & 40-15 & $\\dots$ \\\\\n",
       "\t27 & 1997-06-02 & ST & 2 & A & 0 & 1200 & GOOD TO FIRM & 40-15 & $\\dots$ \\\\\n",
       "\t28 & 1997-06-02 & ST & 2 & A & 0 & 1200 & GOOD TO FIRM & 40-15 & $\\dots$ \\\\\n",
       "\t29 & 1997-06-02 & ST & 3 & A & 0 & 1400 & GOOD TO FIRM & 60-40 & $\\dots$ \\\\\n",
       "\t30 & 1997-06-02 & ST & 3 & A & 0 & 1400 & GOOD TO FIRM & 60-40 & $\\dots$ \\\\\n",
       "\t$\\dots$ & $\\dots$ & $\\dots$ & $\\dots$ & $\\dots$ & $\\dots$ & $\\dots$ & $\\dots$ & $\\dots$ &  \\\\\n",
       "\\end{tabular}\n"
      ],
      "text/plain": [
       "79445×22 DataFrame. Omitted printing of 16 columns\n",
       "│ Row   │ date       │ venue  │ race_no │ config │ surface │ distance │\n",
       "│       │ \u001b[90mDate\u001b[39m       │ \u001b[90mString\u001b[39m │ \u001b[90mInt64\u001b[39m   │ \u001b[90mString\u001b[39m │ \u001b[90mInt64\u001b[39m   │ \u001b[90mInt64\u001b[39m    │\n",
       "├───────┼────────────┼────────┼─────────┼────────┼─────────┼──────────┤\n",
       "│ 1     │ 1997-06-02 │ ST     │ 1       │ A      │ 0       │ 1400     │\n",
       "│ 2     │ 1997-06-02 │ ST     │ 1       │ A      │ 0       │ 1400     │\n",
       "│ 3     │ 1997-06-02 │ ST     │ 1       │ A      │ 0       │ 1400     │\n",
       "│ 4     │ 1997-06-02 │ ST     │ 1       │ A      │ 0       │ 1400     │\n",
       "│ 5     │ 1997-06-02 │ ST     │ 1       │ A      │ 0       │ 1400     │\n",
       "│ 6     │ 1997-06-02 │ ST     │ 1       │ A      │ 0       │ 1400     │\n",
       "│ 7     │ 1997-06-02 │ ST     │ 1       │ A      │ 0       │ 1400     │\n",
       "│ 8     │ 1997-06-02 │ ST     │ 1       │ A      │ 0       │ 1400     │\n",
       "│ 9     │ 1997-06-02 │ ST     │ 1       │ A      │ 0       │ 1400     │\n",
       "│ 10    │ 1997-06-02 │ ST     │ 1       │ A      │ 0       │ 1400     │\n",
       "⋮\n",
       "│ 79435 │ 2005-08-28 │ ST     │ 10      │ A      │ 0       │ 1600     │\n",
       "│ 79436 │ 2005-08-28 │ ST     │ 10      │ A      │ 0       │ 1600     │\n",
       "│ 79437 │ 2005-08-28 │ ST     │ 10      │ A      │ 0       │ 1600     │\n",
       "│ 79438 │ 2005-08-28 │ ST     │ 10      │ A      │ 0       │ 1600     │\n",
       "│ 79439 │ 2005-08-28 │ ST     │ 10      │ A      │ 0       │ 1600     │\n",
       "│ 79440 │ 2005-08-28 │ ST     │ 10      │ A      │ 0       │ 1600     │\n",
       "│ 79441 │ 2005-08-28 │ ST     │ 10      │ A      │ 0       │ 1600     │\n",
       "│ 79442 │ 2005-08-28 │ ST     │ 10      │ A      │ 0       │ 1600     │\n",
       "│ 79443 │ 2005-08-28 │ ST     │ 10      │ A      │ 0       │ 1600     │\n",
       "│ 79444 │ 2005-08-28 │ ST     │ 10      │ A      │ 0       │ 1600     │\n",
       "│ 79445 │ 2005-08-28 │ ST     │ 10      │ A      │ 0       │ 1600     │"
      ]
     },
     "execution_count": 433,
     "metadata": {},
     "output_type": "execute_result"
    }
   ],
   "source": [
    "\"\"\"\n",
    "We are replacing missing values with the column mean for the following columns:\n",
    "    prize\n",
    "\n",
    "\n",
    "Deleting the missing rows from these columns: \n",
    "    place_dividend3 -> since there are only a handful missing (0.1% missing)\n",
    "    \n",
    "    horse_country -> missing extremely few (0.000025%) missing -> 2 rows! \n",
    "\n",
    "    horse_type -> same two rows missing as horse_country that will be deleted \n",
    "\n",
    "\"\"\"\n",
    "\n",
    "# rip on julia here cause we found a bug \n",
    "temp_prize = DataFrame(hcat(full_data[:prize], full_data[:horse_type]))\n",
    "dropmissing!(temp_prize, :x1)\n",
    "temp_mean = mean(temp_prize[:x1])\n",
    "\n",
    "full_data.prize = coalesce.(full_data.prize, temp_mean)\n",
    "\n",
    "\n",
    "# dropping  missing values from place_dividend3 only a handful of rows\n",
    "# dropmissing!(full_data, :place_dividend3)\n",
    "dropmissing!(full_data, :horse_country)\n",
    "\n",
    "dropmissing!(full_data, :horse_type)\n",
    "\n",
    "\n",
    "\n",
    "# *****************************\n",
    "# Huge bug \n",
    "# *************************\n",
    "# replacing missing values with the column mean for prize\n",
    "\n",
    "#coalesce.(full_data, mean(full_data[:prize]))\n",
    "# select!(full_data, Not(:prize))\n",
    "# full_data = hcat(full_data, prize_temp)"
   ]
  },
  {
   "cell_type": "code",
   "execution_count": 434,
   "metadata": {},
   "outputs": [
    {
     "data": {
      "text/html": [
       "<table class=\"data-frame\"><thead><tr><th></th><th>x1</th><th>venue</th><th>race_no</th><th>config</th><th>surface</th><th>distance</th><th>going</th><th>horse_ratings</th><th>prize</th></tr><tr><th></th><th>Any</th><th>String</th><th>Int64</th><th>String</th><th>Int64</th><th>Int64</th><th>String</th><th>String</th><th>Float64</th></tr></thead><tbody><p>79,445 rows × 22 columns (omitted printing of 13 columns)</p><tr><th>1</th><td>153</td><td>ST</td><td>1</td><td>A</td><td>0</td><td>1400</td><td>GOOD TO FIRM</td><td>40-15</td><td>485000.0</td></tr><tr><th>2</th><td>153</td><td>ST</td><td>1</td><td>A</td><td>0</td><td>1400</td><td>GOOD TO FIRM</td><td>40-15</td><td>485000.0</td></tr><tr><th>3</th><td>153</td><td>ST</td><td>1</td><td>A</td><td>0</td><td>1400</td><td>GOOD TO FIRM</td><td>40-15</td><td>485000.0</td></tr><tr><th>4</th><td>153</td><td>ST</td><td>1</td><td>A</td><td>0</td><td>1400</td><td>GOOD TO FIRM</td><td>40-15</td><td>485000.0</td></tr><tr><th>5</th><td>153</td><td>ST</td><td>1</td><td>A</td><td>0</td><td>1400</td><td>GOOD TO FIRM</td><td>40-15</td><td>485000.0</td></tr><tr><th>6</th><td>153</td><td>ST</td><td>1</td><td>A</td><td>0</td><td>1400</td><td>GOOD TO FIRM</td><td>40-15</td><td>485000.0</td></tr><tr><th>7</th><td>153</td><td>ST</td><td>1</td><td>A</td><td>0</td><td>1400</td><td>GOOD TO FIRM</td><td>40-15</td><td>485000.0</td></tr><tr><th>8</th><td>153</td><td>ST</td><td>1</td><td>A</td><td>0</td><td>1400</td><td>GOOD TO FIRM</td><td>40-15</td><td>485000.0</td></tr><tr><th>9</th><td>153</td><td>ST</td><td>1</td><td>A</td><td>0</td><td>1400</td><td>GOOD TO FIRM</td><td>40-15</td><td>485000.0</td></tr><tr><th>10</th><td>153</td><td>ST</td><td>1</td><td>A</td><td>0</td><td>1400</td><td>GOOD TO FIRM</td><td>40-15</td><td>485000.0</td></tr><tr><th>11</th><td>153</td><td>ST</td><td>1</td><td>A</td><td>0</td><td>1400</td><td>GOOD TO FIRM</td><td>40-15</td><td>485000.0</td></tr><tr><th>12</th><td>153</td><td>ST</td><td>1</td><td>A</td><td>0</td><td>1400</td><td>GOOD TO FIRM</td><td>40-15</td><td>485000.0</td></tr><tr><th>13</th><td>153</td><td>ST</td><td>1</td><td>A</td><td>0</td><td>1400</td><td>GOOD TO FIRM</td><td>40-15</td><td>485000.0</td></tr><tr><th>14</th><td>153</td><td>ST</td><td>1</td><td>A</td><td>0</td><td>1400</td><td>GOOD TO FIRM</td><td>40-15</td><td>485000.0</td></tr><tr><th>15</th><td>153</td><td>ST</td><td>2</td><td>A</td><td>0</td><td>1200</td><td>GOOD TO FIRM</td><td>40-15</td><td>485000.0</td></tr><tr><th>16</th><td>153</td><td>ST</td><td>2</td><td>A</td><td>0</td><td>1200</td><td>GOOD TO FIRM</td><td>40-15</td><td>485000.0</td></tr><tr><th>17</th><td>153</td><td>ST</td><td>2</td><td>A</td><td>0</td><td>1200</td><td>GOOD TO FIRM</td><td>40-15</td><td>485000.0</td></tr><tr><th>18</th><td>153</td><td>ST</td><td>2</td><td>A</td><td>0</td><td>1200</td><td>GOOD TO FIRM</td><td>40-15</td><td>485000.0</td></tr><tr><th>19</th><td>153</td><td>ST</td><td>2</td><td>A</td><td>0</td><td>1200</td><td>GOOD TO FIRM</td><td>40-15</td><td>485000.0</td></tr><tr><th>20</th><td>153</td><td>ST</td><td>2</td><td>A</td><td>0</td><td>1200</td><td>GOOD TO FIRM</td><td>40-15</td><td>485000.0</td></tr><tr><th>21</th><td>153</td><td>ST</td><td>2</td><td>A</td><td>0</td><td>1200</td><td>GOOD TO FIRM</td><td>40-15</td><td>485000.0</td></tr><tr><th>22</th><td>153</td><td>ST</td><td>2</td><td>A</td><td>0</td><td>1200</td><td>GOOD TO FIRM</td><td>40-15</td><td>485000.0</td></tr><tr><th>23</th><td>153</td><td>ST</td><td>2</td><td>A</td><td>0</td><td>1200</td><td>GOOD TO FIRM</td><td>40-15</td><td>485000.0</td></tr><tr><th>24</th><td>153</td><td>ST</td><td>2</td><td>A</td><td>0</td><td>1200</td><td>GOOD TO FIRM</td><td>40-15</td><td>485000.0</td></tr><tr><th>25</th><td>153</td><td>ST</td><td>2</td><td>A</td><td>0</td><td>1200</td><td>GOOD TO FIRM</td><td>40-15</td><td>485000.0</td></tr><tr><th>26</th><td>153</td><td>ST</td><td>2</td><td>A</td><td>0</td><td>1200</td><td>GOOD TO FIRM</td><td>40-15</td><td>485000.0</td></tr><tr><th>27</th><td>153</td><td>ST</td><td>2</td><td>A</td><td>0</td><td>1200</td><td>GOOD TO FIRM</td><td>40-15</td><td>485000.0</td></tr><tr><th>28</th><td>153</td><td>ST</td><td>2</td><td>A</td><td>0</td><td>1200</td><td>GOOD TO FIRM</td><td>40-15</td><td>485000.0</td></tr><tr><th>29</th><td>153</td><td>ST</td><td>3</td><td>A</td><td>0</td><td>1400</td><td>GOOD TO FIRM</td><td>60-40</td><td>625000.0</td></tr><tr><th>30</th><td>153</td><td>ST</td><td>3</td><td>A</td><td>0</td><td>1400</td><td>GOOD TO FIRM</td><td>60-40</td><td>625000.0</td></tr><tr><th>&vellip;</th><td>&vellip;</td><td>&vellip;</td><td>&vellip;</td><td>&vellip;</td><td>&vellip;</td><td>&vellip;</td><td>&vellip;</td><td>&vellip;</td><td>&vellip;</td></tr></tbody></table>"
      ],
      "text/latex": [
       "\\begin{tabular}{r|cccccccccc}\n",
       "\t& x1 & venue & race\\_no & config & surface & distance & going & horse\\_ratings & prize & \\\\\n",
       "\t\\hline\n",
       "\t& Any & String & Int64 & String & Int64 & Int64 & String & String & Float64 & \\\\\n",
       "\t\\hline\n",
       "\t1 & 153 & ST & 1 & A & 0 & 1400 & GOOD TO FIRM & 40-15 & 485000.0 & $\\dots$ \\\\\n",
       "\t2 & 153 & ST & 1 & A & 0 & 1400 & GOOD TO FIRM & 40-15 & 485000.0 & $\\dots$ \\\\\n",
       "\t3 & 153 & ST & 1 & A & 0 & 1400 & GOOD TO FIRM & 40-15 & 485000.0 & $\\dots$ \\\\\n",
       "\t4 & 153 & ST & 1 & A & 0 & 1400 & GOOD TO FIRM & 40-15 & 485000.0 & $\\dots$ \\\\\n",
       "\t5 & 153 & ST & 1 & A & 0 & 1400 & GOOD TO FIRM & 40-15 & 485000.0 & $\\dots$ \\\\\n",
       "\t6 & 153 & ST & 1 & A & 0 & 1400 & GOOD TO FIRM & 40-15 & 485000.0 & $\\dots$ \\\\\n",
       "\t7 & 153 & ST & 1 & A & 0 & 1400 & GOOD TO FIRM & 40-15 & 485000.0 & $\\dots$ \\\\\n",
       "\t8 & 153 & ST & 1 & A & 0 & 1400 & GOOD TO FIRM & 40-15 & 485000.0 & $\\dots$ \\\\\n",
       "\t9 & 153 & ST & 1 & A & 0 & 1400 & GOOD TO FIRM & 40-15 & 485000.0 & $\\dots$ \\\\\n",
       "\t10 & 153 & ST & 1 & A & 0 & 1400 & GOOD TO FIRM & 40-15 & 485000.0 & $\\dots$ \\\\\n",
       "\t11 & 153 & ST & 1 & A & 0 & 1400 & GOOD TO FIRM & 40-15 & 485000.0 & $\\dots$ \\\\\n",
       "\t12 & 153 & ST & 1 & A & 0 & 1400 & GOOD TO FIRM & 40-15 & 485000.0 & $\\dots$ \\\\\n",
       "\t13 & 153 & ST & 1 & A & 0 & 1400 & GOOD TO FIRM & 40-15 & 485000.0 & $\\dots$ \\\\\n",
       "\t14 & 153 & ST & 1 & A & 0 & 1400 & GOOD TO FIRM & 40-15 & 485000.0 & $\\dots$ \\\\\n",
       "\t15 & 153 & ST & 2 & A & 0 & 1200 & GOOD TO FIRM & 40-15 & 485000.0 & $\\dots$ \\\\\n",
       "\t16 & 153 & ST & 2 & A & 0 & 1200 & GOOD TO FIRM & 40-15 & 485000.0 & $\\dots$ \\\\\n",
       "\t17 & 153 & ST & 2 & A & 0 & 1200 & GOOD TO FIRM & 40-15 & 485000.0 & $\\dots$ \\\\\n",
       "\t18 & 153 & ST & 2 & A & 0 & 1200 & GOOD TO FIRM & 40-15 & 485000.0 & $\\dots$ \\\\\n",
       "\t19 & 153 & ST & 2 & A & 0 & 1200 & GOOD TO FIRM & 40-15 & 485000.0 & $\\dots$ \\\\\n",
       "\t20 & 153 & ST & 2 & A & 0 & 1200 & GOOD TO FIRM & 40-15 & 485000.0 & $\\dots$ \\\\\n",
       "\t21 & 153 & ST & 2 & A & 0 & 1200 & GOOD TO FIRM & 40-15 & 485000.0 & $\\dots$ \\\\\n",
       "\t22 & 153 & ST & 2 & A & 0 & 1200 & GOOD TO FIRM & 40-15 & 485000.0 & $\\dots$ \\\\\n",
       "\t23 & 153 & ST & 2 & A & 0 & 1200 & GOOD TO FIRM & 40-15 & 485000.0 & $\\dots$ \\\\\n",
       "\t24 & 153 & ST & 2 & A & 0 & 1200 & GOOD TO FIRM & 40-15 & 485000.0 & $\\dots$ \\\\\n",
       "\t25 & 153 & ST & 2 & A & 0 & 1200 & GOOD TO FIRM & 40-15 & 485000.0 & $\\dots$ \\\\\n",
       "\t26 & 153 & ST & 2 & A & 0 & 1200 & GOOD TO FIRM & 40-15 & 485000.0 & $\\dots$ \\\\\n",
       "\t27 & 153 & ST & 2 & A & 0 & 1200 & GOOD TO FIRM & 40-15 & 485000.0 & $\\dots$ \\\\\n",
       "\t28 & 153 & ST & 2 & A & 0 & 1200 & GOOD TO FIRM & 40-15 & 485000.0 & $\\dots$ \\\\\n",
       "\t29 & 153 & ST & 3 & A & 0 & 1400 & GOOD TO FIRM & 60-40 & 625000.0 & $\\dots$ \\\\\n",
       "\t30 & 153 & ST & 3 & A & 0 & 1400 & GOOD TO FIRM & 60-40 & 625000.0 & $\\dots$ \\\\\n",
       "\t$\\dots$ & $\\dots$ & $\\dots$ & $\\dots$ & $\\dots$ & $\\dots$ & $\\dots$ & $\\dots$ & $\\dots$ & $\\dots$ &  \\\\\n",
       "\\end{tabular}\n"
      ],
      "text/plain": [
       "79445×22 DataFrame. Omitted printing of 15 columns\n",
       "│ Row   │ x1  │ venue  │ race_no │ config │ surface │ distance │ going        │\n",
       "│       │ \u001b[90mAny\u001b[39m │ \u001b[90mString\u001b[39m │ \u001b[90mInt64\u001b[39m   │ \u001b[90mString\u001b[39m │ \u001b[90mInt64\u001b[39m   │ \u001b[90mInt64\u001b[39m    │ \u001b[90mString\u001b[39m       │\n",
       "├───────┼─────┼────────┼─────────┼────────┼─────────┼──────────┼──────────────┤\n",
       "│ 1     │ 153 │ ST     │ 1       │ A      │ 0       │ 1400     │ GOOD TO FIRM │\n",
       "│ 2     │ 153 │ ST     │ 1       │ A      │ 0       │ 1400     │ GOOD TO FIRM │\n",
       "│ 3     │ 153 │ ST     │ 1       │ A      │ 0       │ 1400     │ GOOD TO FIRM │\n",
       "│ 4     │ 153 │ ST     │ 1       │ A      │ 0       │ 1400     │ GOOD TO FIRM │\n",
       "│ 5     │ 153 │ ST     │ 1       │ A      │ 0       │ 1400     │ GOOD TO FIRM │\n",
       "│ 6     │ 153 │ ST     │ 1       │ A      │ 0       │ 1400     │ GOOD TO FIRM │\n",
       "│ 7     │ 153 │ ST     │ 1       │ A      │ 0       │ 1400     │ GOOD TO FIRM │\n",
       "│ 8     │ 153 │ ST     │ 1       │ A      │ 0       │ 1400     │ GOOD TO FIRM │\n",
       "│ 9     │ 153 │ ST     │ 1       │ A      │ 0       │ 1400     │ GOOD TO FIRM │\n",
       "│ 10    │ 153 │ ST     │ 1       │ A      │ 0       │ 1400     │ GOOD TO FIRM │\n",
       "⋮\n",
       "│ 79435 │ 240 │ ST     │ 10      │ A      │ 0       │ 1600     │ GOOD         │\n",
       "│ 79436 │ 240 │ ST     │ 10      │ A      │ 0       │ 1600     │ GOOD         │\n",
       "│ 79437 │ 240 │ ST     │ 10      │ A      │ 0       │ 1600     │ GOOD         │\n",
       "│ 79438 │ 240 │ ST     │ 10      │ A      │ 0       │ 1600     │ GOOD         │\n",
       "│ 79439 │ 240 │ ST     │ 10      │ A      │ 0       │ 1600     │ GOOD         │\n",
       "│ 79440 │ 240 │ ST     │ 10      │ A      │ 0       │ 1600     │ GOOD         │\n",
       "│ 79441 │ 240 │ ST     │ 10      │ A      │ 0       │ 1600     │ GOOD         │\n",
       "│ 79442 │ 240 │ ST     │ 10      │ A      │ 0       │ 1600     │ GOOD         │\n",
       "│ 79443 │ 240 │ ST     │ 10      │ A      │ 0       │ 1600     │ GOOD         │\n",
       "│ 79444 │ 240 │ ST     │ 10      │ A      │ 0       │ 1600     │ GOOD         │\n",
       "│ 79445 │ 240 │ ST     │ 10      │ A      │ 0       │ 1600     │ GOOD         │"
      ]
     },
     "execution_count": 434,
     "metadata": {},
     "output_type": "execute_result"
    }
   ],
   "source": [
    "\"\"\"\n",
    "For our date column we will convert the Date object to a day of the year (int) to account for seasonality.\n",
    "\"\"\"\n",
    "\n",
    "using Dates\n",
    "N = 79445\n",
    "dayofyear = []\n",
    "for i=1:N\n",
    "    append!(dayofyear, Dates.dayofyear(full_data[i, :date]))\n",
    "end\n",
    "\n",
    "full_data = hcat(dayofyear, full_data)\n",
    "select!(full_data, Not(:date))"
   ]
  },
  {
   "cell_type": "code",
   "execution_count": 435,
   "metadata": {},
   "outputs": [
    {
     "data": {
      "text/plain": [
       "onehot"
      ]
     },
     "execution_count": 435,
     "metadata": {},
     "output_type": "execute_result"
    }
   ],
   "source": [
    "\"\"\"\n",
    "For categorical features we will be doing one-hot encoding over many hot encoding because we do not have any sets.\n",
    "\n",
    "\"\"\"\n",
    "one_hot_labels = [\n",
    "  :horse_type,\n",
    "  :horse_country,\n",
    "  :config,\n",
    "  :venue,\n",
    "  :going, \n",
    "  :horse_ratings,\n",
    "  :jockey_id,\n",
    "  :trainer_id\n",
    "]\n",
    "\n",
    "#Sets of all categories in a particular column\n",
    "uniq_sets = [unique(full_data[:, label]) for label in one_hot_labels]\n",
    "\n",
    "\n",
    "\"Computes a onehot vector for every entry in column given a set of categories cats\"\n",
    "function onehot(column, cats=unique(column))\n",
    "    result = zeros(length(column), length(cats))\n",
    " \n",
    "    for r in 1:length(column)\n",
    "        for c in 1:length(cats)\n",
    "            \n",
    "            if column[r] == cats[c] \n",
    "                result[r, c] = 1\n",
    "            \n",
    "            end\n",
    "        end\n",
    "    end\n",
    "   \n",
    "    result\n",
    "end\n"
   ]
  },
  {
   "cell_type": "code",
   "execution_count": 436,
   "metadata": {},
   "outputs": [
    {
     "data": {
      "text/plain": [
       "79445×436 Array{Float64,2}:\n",
       " 1.0  0.0  0.0  0.0  0.0  0.0  0.0  0.0  …  0.0  0.0  0.0  0.0  0.0  0.0  0.0\n",
       " 1.0  0.0  0.0  0.0  0.0  0.0  0.0  0.0     0.0  0.0  0.0  0.0  0.0  0.0  0.0\n",
       " 1.0  0.0  0.0  0.0  0.0  0.0  0.0  0.0     0.0  0.0  0.0  0.0  0.0  0.0  0.0\n",
       " 1.0  0.0  0.0  0.0  0.0  0.0  0.0  0.0     0.0  0.0  0.0  0.0  0.0  0.0  0.0\n",
       " 1.0  0.0  0.0  0.0  0.0  0.0  0.0  0.0     0.0  0.0  0.0  0.0  0.0  0.0  0.0\n",
       " 1.0  0.0  0.0  0.0  0.0  0.0  0.0  0.0  …  0.0  0.0  0.0  0.0  0.0  0.0  0.0\n",
       " 1.0  0.0  0.0  0.0  0.0  0.0  0.0  0.0     0.0  0.0  0.0  0.0  0.0  0.0  0.0\n",
       " 1.0  0.0  0.0  0.0  0.0  0.0  0.0  0.0     0.0  0.0  0.0  0.0  0.0  0.0  0.0\n",
       " 1.0  0.0  0.0  0.0  0.0  0.0  0.0  0.0     0.0  0.0  0.0  0.0  0.0  0.0  0.0\n",
       " 0.0  1.0  0.0  0.0  0.0  0.0  0.0  0.0     0.0  0.0  0.0  0.0  0.0  0.0  0.0\n",
       " 1.0  0.0  0.0  0.0  0.0  0.0  0.0  0.0  …  0.0  0.0  0.0  0.0  0.0  0.0  0.0\n",
       " 1.0  0.0  0.0  0.0  0.0  0.0  0.0  0.0     0.0  0.0  0.0  0.0  0.0  0.0  0.0\n",
       " 1.0  0.0  0.0  0.0  0.0  0.0  0.0  0.0     0.0  0.0  0.0  0.0  0.0  0.0  0.0\n",
       " ⋮                        ⋮              ⋱       ⋮                        ⋮\n",
       " 1.0  0.0  0.0  0.0  0.0  0.0  0.0  0.0     0.0  0.0  0.0  0.0  0.0  0.0  0.0\n",
       " 1.0  0.0  0.0  0.0  0.0  0.0  0.0  0.0     0.0  0.0  0.0  0.0  0.0  0.0  0.0\n",
       " 1.0  0.0  0.0  0.0  0.0  0.0  0.0  0.0  …  0.0  0.0  0.0  0.0  0.0  0.0  0.0\n",
       " 1.0  0.0  0.0  0.0  0.0  0.0  0.0  0.0     0.0  0.0  0.0  0.0  0.0  0.0  0.0\n",
       " 1.0  0.0  0.0  0.0  0.0  0.0  0.0  0.0     0.0  0.0  0.0  0.0  0.0  0.0  0.0\n",
       " 1.0  0.0  0.0  0.0  0.0  0.0  0.0  0.0     0.0  0.0  0.0  0.0  0.0  0.0  0.0\n",
       " 1.0  0.0  0.0  0.0  0.0  0.0  0.0  0.0     0.0  0.0  0.0  0.0  0.0  0.0  0.0\n",
       " 1.0  0.0  0.0  0.0  0.0  0.0  0.0  0.0  …  0.0  0.0  0.0  0.0  0.0  0.0  0.0\n",
       " 1.0  0.0  0.0  0.0  0.0  0.0  0.0  0.0     0.0  0.0  0.0  0.0  0.0  0.0  0.0\n",
       " 1.0  0.0  0.0  0.0  0.0  0.0  0.0  0.0     0.0  0.0  0.0  0.0  0.0  0.0  0.0\n",
       " 1.0  0.0  0.0  0.0  0.0  0.0  0.0  0.0     0.0  0.0  0.0  0.0  0.0  0.0  0.0\n",
       " 1.0  0.0  0.0  0.0  0.0  0.0  0.0  0.0     0.0  0.0  0.0  0.0  0.0  0.0  0.0"
      ]
     },
     "execution_count": 436,
     "metadata": {},
     "output_type": "execute_result"
    }
   ],
   "source": [
    "htype = onehot(full_data[:, :horse_type], uniq_sets[1])\n",
    "hcountry = onehot(full_data[:, :horse_country], uniq_sets[2])\n",
    "config = onehot(full_data[:, :config], uniq_sets[3])\n",
    "venue = onehot(full_data[:, :venue], uniq_sets[4])\n",
    "going = onehot(full_data[:, :going], uniq_sets[5])\n",
    "horse_ratings = onehot(full_data[:, :horse_ratings], uniq_sets[6])\n",
    "jockey_id = onehot(full_data[:, :jockey_id], uniq_sets[7])\n",
    "trainer_id = onehot(full_data[:, :trainer_id], uniq_sets[8])\n",
    "\n",
    "one_hots = hcat(htype, hcountry, config, venue, going, horse_ratings, jockey_id, trainer_id)"
   ]
  },
  {
   "cell_type": "code",
   "execution_count": 437,
   "metadata": {},
   "outputs": [
    {
     "data": {
      "text/html": [
       "<table class=\"data-frame\"><thead><tr><th></th><th>x1</th><th>race_no</th><th>surface</th><th>distance</th><th>prize</th><th>race_class</th><th>win_dividend1</th><th>horse_no</th></tr><tr><th></th><th>Any</th><th>Int64</th><th>Int64</th><th>Int64</th><th>Float64</th><th>Int64</th><th>Float64</th><th>Int64</th></tr></thead><tbody><p>79,445 rows × 14 columns (omitted printing of 6 columns)</p><tr><th>1</th><td>153</td><td>1</td><td>0</td><td>1400</td><td>485000.0</td><td>5</td><td>121.0</td><td>1</td></tr><tr><th>2</th><td>153</td><td>1</td><td>0</td><td>1400</td><td>485000.0</td><td>5</td><td>121.0</td><td>2</td></tr><tr><th>3</th><td>153</td><td>1</td><td>0</td><td>1400</td><td>485000.0</td><td>5</td><td>121.0</td><td>3</td></tr><tr><th>4</th><td>153</td><td>1</td><td>0</td><td>1400</td><td>485000.0</td><td>5</td><td>121.0</td><td>4</td></tr><tr><th>5</th><td>153</td><td>1</td><td>0</td><td>1400</td><td>485000.0</td><td>5</td><td>121.0</td><td>5</td></tr><tr><th>6</th><td>153</td><td>1</td><td>0</td><td>1400</td><td>485000.0</td><td>5</td><td>121.0</td><td>6</td></tr><tr><th>7</th><td>153</td><td>1</td><td>0</td><td>1400</td><td>485000.0</td><td>5</td><td>121.0</td><td>7</td></tr><tr><th>8</th><td>153</td><td>1</td><td>0</td><td>1400</td><td>485000.0</td><td>5</td><td>121.0</td><td>8</td></tr><tr><th>9</th><td>153</td><td>1</td><td>0</td><td>1400</td><td>485000.0</td><td>5</td><td>121.0</td><td>9</td></tr><tr><th>10</th><td>153</td><td>1</td><td>0</td><td>1400</td><td>485000.0</td><td>5</td><td>121.0</td><td>10</td></tr><tr><th>11</th><td>153</td><td>1</td><td>0</td><td>1400</td><td>485000.0</td><td>5</td><td>121.0</td><td>11</td></tr><tr><th>12</th><td>153</td><td>1</td><td>0</td><td>1400</td><td>485000.0</td><td>5</td><td>121.0</td><td>12</td></tr><tr><th>13</th><td>153</td><td>1</td><td>0</td><td>1400</td><td>485000.0</td><td>5</td><td>121.0</td><td>13</td></tr><tr><th>14</th><td>153</td><td>1</td><td>0</td><td>1400</td><td>485000.0</td><td>5</td><td>121.0</td><td>14</td></tr><tr><th>15</th><td>153</td><td>2</td><td>0</td><td>1200</td><td>485000.0</td><td>5</td><td>23.5</td><td>1</td></tr><tr><th>16</th><td>153</td><td>2</td><td>0</td><td>1200</td><td>485000.0</td><td>5</td><td>23.5</td><td>2</td></tr><tr><th>17</th><td>153</td><td>2</td><td>0</td><td>1200</td><td>485000.0</td><td>5</td><td>23.5</td><td>3</td></tr><tr><th>18</th><td>153</td><td>2</td><td>0</td><td>1200</td><td>485000.0</td><td>5</td><td>23.5</td><td>4</td></tr><tr><th>19</th><td>153</td><td>2</td><td>0</td><td>1200</td><td>485000.0</td><td>5</td><td>23.5</td><td>5</td></tr><tr><th>20</th><td>153</td><td>2</td><td>0</td><td>1200</td><td>485000.0</td><td>5</td><td>23.5</td><td>6</td></tr><tr><th>21</th><td>153</td><td>2</td><td>0</td><td>1200</td><td>485000.0</td><td>5</td><td>23.5</td><td>7</td></tr><tr><th>22</th><td>153</td><td>2</td><td>0</td><td>1200</td><td>485000.0</td><td>5</td><td>23.5</td><td>8</td></tr><tr><th>23</th><td>153</td><td>2</td><td>0</td><td>1200</td><td>485000.0</td><td>5</td><td>23.5</td><td>9</td></tr><tr><th>24</th><td>153</td><td>2</td><td>0</td><td>1200</td><td>485000.0</td><td>5</td><td>23.5</td><td>10</td></tr><tr><th>25</th><td>153</td><td>2</td><td>0</td><td>1200</td><td>485000.0</td><td>5</td><td>23.5</td><td>11</td></tr><tr><th>26</th><td>153</td><td>2</td><td>0</td><td>1200</td><td>485000.0</td><td>5</td><td>23.5</td><td>12</td></tr><tr><th>27</th><td>153</td><td>2</td><td>0</td><td>1200</td><td>485000.0</td><td>5</td><td>23.5</td><td>13</td></tr><tr><th>28</th><td>153</td><td>2</td><td>0</td><td>1200</td><td>485000.0</td><td>5</td><td>23.5</td><td>14</td></tr><tr><th>29</th><td>153</td><td>3</td><td>0</td><td>1400</td><td>625000.0</td><td>4</td><td>70.0</td><td>1</td></tr><tr><th>30</th><td>153</td><td>3</td><td>0</td><td>1400</td><td>625000.0</td><td>4</td><td>70.0</td><td>2</td></tr><tr><th>&vellip;</th><td>&vellip;</td><td>&vellip;</td><td>&vellip;</td><td>&vellip;</td><td>&vellip;</td><td>&vellip;</td><td>&vellip;</td><td>&vellip;</td></tr></tbody></table>"
      ],
      "text/latex": [
       "\\begin{tabular}{r|ccccccccc}\n",
       "\t& x1 & race\\_no & surface & distance & prize & race\\_class & win\\_dividend1 & horse\\_no & \\\\\n",
       "\t\\hline\n",
       "\t& Any & Int64 & Int64 & Int64 & Float64 & Int64 & Float64 & Int64 & \\\\\n",
       "\t\\hline\n",
       "\t1 & 153 & 1 & 0 & 1400 & 485000.0 & 5 & 121.0 & 1 & $\\dots$ \\\\\n",
       "\t2 & 153 & 1 & 0 & 1400 & 485000.0 & 5 & 121.0 & 2 & $\\dots$ \\\\\n",
       "\t3 & 153 & 1 & 0 & 1400 & 485000.0 & 5 & 121.0 & 3 & $\\dots$ \\\\\n",
       "\t4 & 153 & 1 & 0 & 1400 & 485000.0 & 5 & 121.0 & 4 & $\\dots$ \\\\\n",
       "\t5 & 153 & 1 & 0 & 1400 & 485000.0 & 5 & 121.0 & 5 & $\\dots$ \\\\\n",
       "\t6 & 153 & 1 & 0 & 1400 & 485000.0 & 5 & 121.0 & 6 & $\\dots$ \\\\\n",
       "\t7 & 153 & 1 & 0 & 1400 & 485000.0 & 5 & 121.0 & 7 & $\\dots$ \\\\\n",
       "\t8 & 153 & 1 & 0 & 1400 & 485000.0 & 5 & 121.0 & 8 & $\\dots$ \\\\\n",
       "\t9 & 153 & 1 & 0 & 1400 & 485000.0 & 5 & 121.0 & 9 & $\\dots$ \\\\\n",
       "\t10 & 153 & 1 & 0 & 1400 & 485000.0 & 5 & 121.0 & 10 & $\\dots$ \\\\\n",
       "\t11 & 153 & 1 & 0 & 1400 & 485000.0 & 5 & 121.0 & 11 & $\\dots$ \\\\\n",
       "\t12 & 153 & 1 & 0 & 1400 & 485000.0 & 5 & 121.0 & 12 & $\\dots$ \\\\\n",
       "\t13 & 153 & 1 & 0 & 1400 & 485000.0 & 5 & 121.0 & 13 & $\\dots$ \\\\\n",
       "\t14 & 153 & 1 & 0 & 1400 & 485000.0 & 5 & 121.0 & 14 & $\\dots$ \\\\\n",
       "\t15 & 153 & 2 & 0 & 1200 & 485000.0 & 5 & 23.5 & 1 & $\\dots$ \\\\\n",
       "\t16 & 153 & 2 & 0 & 1200 & 485000.0 & 5 & 23.5 & 2 & $\\dots$ \\\\\n",
       "\t17 & 153 & 2 & 0 & 1200 & 485000.0 & 5 & 23.5 & 3 & $\\dots$ \\\\\n",
       "\t18 & 153 & 2 & 0 & 1200 & 485000.0 & 5 & 23.5 & 4 & $\\dots$ \\\\\n",
       "\t19 & 153 & 2 & 0 & 1200 & 485000.0 & 5 & 23.5 & 5 & $\\dots$ \\\\\n",
       "\t20 & 153 & 2 & 0 & 1200 & 485000.0 & 5 & 23.5 & 6 & $\\dots$ \\\\\n",
       "\t21 & 153 & 2 & 0 & 1200 & 485000.0 & 5 & 23.5 & 7 & $\\dots$ \\\\\n",
       "\t22 & 153 & 2 & 0 & 1200 & 485000.0 & 5 & 23.5 & 8 & $\\dots$ \\\\\n",
       "\t23 & 153 & 2 & 0 & 1200 & 485000.0 & 5 & 23.5 & 9 & $\\dots$ \\\\\n",
       "\t24 & 153 & 2 & 0 & 1200 & 485000.0 & 5 & 23.5 & 10 & $\\dots$ \\\\\n",
       "\t25 & 153 & 2 & 0 & 1200 & 485000.0 & 5 & 23.5 & 11 & $\\dots$ \\\\\n",
       "\t26 & 153 & 2 & 0 & 1200 & 485000.0 & 5 & 23.5 & 12 & $\\dots$ \\\\\n",
       "\t27 & 153 & 2 & 0 & 1200 & 485000.0 & 5 & 23.5 & 13 & $\\dots$ \\\\\n",
       "\t28 & 153 & 2 & 0 & 1200 & 485000.0 & 5 & 23.5 & 14 & $\\dots$ \\\\\n",
       "\t29 & 153 & 3 & 0 & 1400 & 625000.0 & 4 & 70.0 & 1 & $\\dots$ \\\\\n",
       "\t30 & 153 & 3 & 0 & 1400 & 625000.0 & 4 & 70.0 & 2 & $\\dots$ \\\\\n",
       "\t$\\dots$ & $\\dots$ & $\\dots$ & $\\dots$ & $\\dots$ & $\\dots$ & $\\dots$ & $\\dots$ & $\\dots$ &  \\\\\n",
       "\\end{tabular}\n"
      ],
      "text/plain": [
       "79445×14 DataFrame. Omitted printing of 8 columns\n",
       "│ Row   │ x1  │ race_no │ surface │ distance │ prize    │ race_class │\n",
       "│       │ \u001b[90mAny\u001b[39m │ \u001b[90mInt64\u001b[39m   │ \u001b[90mInt64\u001b[39m   │ \u001b[90mInt64\u001b[39m    │ \u001b[90mFloat64\u001b[39m  │ \u001b[90mInt64\u001b[39m      │\n",
       "├───────┼─────┼─────────┼─────────┼──────────┼──────────┼────────────┤\n",
       "│ 1     │ 153 │ 1       │ 0       │ 1400     │ 485000.0 │ 5          │\n",
       "│ 2     │ 153 │ 1       │ 0       │ 1400     │ 485000.0 │ 5          │\n",
       "│ 3     │ 153 │ 1       │ 0       │ 1400     │ 485000.0 │ 5          │\n",
       "│ 4     │ 153 │ 1       │ 0       │ 1400     │ 485000.0 │ 5          │\n",
       "│ 5     │ 153 │ 1       │ 0       │ 1400     │ 485000.0 │ 5          │\n",
       "│ 6     │ 153 │ 1       │ 0       │ 1400     │ 485000.0 │ 5          │\n",
       "│ 7     │ 153 │ 1       │ 0       │ 1400     │ 485000.0 │ 5          │\n",
       "│ 8     │ 153 │ 1       │ 0       │ 1400     │ 485000.0 │ 5          │\n",
       "│ 9     │ 153 │ 1       │ 0       │ 1400     │ 485000.0 │ 5          │\n",
       "│ 10    │ 153 │ 1       │ 0       │ 1400     │ 485000.0 │ 5          │\n",
       "⋮\n",
       "│ 79435 │ 240 │ 10      │ 0       │ 1600     │ 1.75e6   │ 2          │\n",
       "│ 79436 │ 240 │ 10      │ 0       │ 1600     │ 1.75e6   │ 2          │\n",
       "│ 79437 │ 240 │ 10      │ 0       │ 1600     │ 1.75e6   │ 2          │\n",
       "│ 79438 │ 240 │ 10      │ 0       │ 1600     │ 1.75e6   │ 2          │\n",
       "│ 79439 │ 240 │ 10      │ 0       │ 1600     │ 1.75e6   │ 2          │\n",
       "│ 79440 │ 240 │ 10      │ 0       │ 1600     │ 1.75e6   │ 2          │\n",
       "│ 79441 │ 240 │ 10      │ 0       │ 1600     │ 1.75e6   │ 2          │\n",
       "│ 79442 │ 240 │ 10      │ 0       │ 1600     │ 1.75e6   │ 2          │\n",
       "│ 79443 │ 240 │ 10      │ 0       │ 1600     │ 1.75e6   │ 2          │\n",
       "│ 79444 │ 240 │ 10      │ 0       │ 1600     │ 1.75e6   │ 2          │\n",
       "│ 79445 │ 240 │ 10      │ 0       │ 1600     │ 1.75e6   │ 2          │"
      ]
     },
     "execution_count": 437,
     "metadata": {},
     "output_type": "execute_result"
    }
   ],
   "source": [
    "select!(full_data, Not(:horse_type))\n",
    "select!(full_data, Not(:horse_country))\n",
    "select!(full_data, Not(:venue))\n",
    "select!(full_data, Not(:config))\n",
    "select!(full_data, Not(:going))\n",
    "select!(full_data, Not(:horse_ratings))\n",
    "select!(full_data, Not(:jockey_id))\n",
    "select!(full_data, Not(:trainer_id))"
   ]
  },
  {
   "cell_type": "code",
   "execution_count": 438,
   "metadata": {},
   "outputs": [
    {
     "data": {
      "text/html": [
       "<table class=\"data-frame\"><thead><tr><th></th><th>x1</th><th>race_no</th><th>surface</th><th>distance</th><th>prize</th><th>race_class</th><th>win_dividend1</th><th>horse_no</th></tr><tr><th></th><th>Any</th><th>Int64</th><th>Int64</th><th>Int64</th><th>Float64</th><th>Int64</th><th>Float64</th><th>Int64</th></tr></thead><tbody><p>79,445 rows × 450 columns (omitted printing of 442 columns)</p><tr><th>1</th><td>153</td><td>1</td><td>0</td><td>1400</td><td>485000.0</td><td>5</td><td>121.0</td><td>1</td></tr><tr><th>2</th><td>153</td><td>1</td><td>0</td><td>1400</td><td>485000.0</td><td>5</td><td>121.0</td><td>2</td></tr><tr><th>3</th><td>153</td><td>1</td><td>0</td><td>1400</td><td>485000.0</td><td>5</td><td>121.0</td><td>3</td></tr><tr><th>4</th><td>153</td><td>1</td><td>0</td><td>1400</td><td>485000.0</td><td>5</td><td>121.0</td><td>4</td></tr><tr><th>5</th><td>153</td><td>1</td><td>0</td><td>1400</td><td>485000.0</td><td>5</td><td>121.0</td><td>5</td></tr><tr><th>6</th><td>153</td><td>1</td><td>0</td><td>1400</td><td>485000.0</td><td>5</td><td>121.0</td><td>6</td></tr><tr><th>7</th><td>153</td><td>1</td><td>0</td><td>1400</td><td>485000.0</td><td>5</td><td>121.0</td><td>7</td></tr><tr><th>8</th><td>153</td><td>1</td><td>0</td><td>1400</td><td>485000.0</td><td>5</td><td>121.0</td><td>8</td></tr><tr><th>9</th><td>153</td><td>1</td><td>0</td><td>1400</td><td>485000.0</td><td>5</td><td>121.0</td><td>9</td></tr><tr><th>10</th><td>153</td><td>1</td><td>0</td><td>1400</td><td>485000.0</td><td>5</td><td>121.0</td><td>10</td></tr><tr><th>11</th><td>153</td><td>1</td><td>0</td><td>1400</td><td>485000.0</td><td>5</td><td>121.0</td><td>11</td></tr><tr><th>12</th><td>153</td><td>1</td><td>0</td><td>1400</td><td>485000.0</td><td>5</td><td>121.0</td><td>12</td></tr><tr><th>13</th><td>153</td><td>1</td><td>0</td><td>1400</td><td>485000.0</td><td>5</td><td>121.0</td><td>13</td></tr><tr><th>14</th><td>153</td><td>1</td><td>0</td><td>1400</td><td>485000.0</td><td>5</td><td>121.0</td><td>14</td></tr><tr><th>15</th><td>153</td><td>2</td><td>0</td><td>1200</td><td>485000.0</td><td>5</td><td>23.5</td><td>1</td></tr><tr><th>16</th><td>153</td><td>2</td><td>0</td><td>1200</td><td>485000.0</td><td>5</td><td>23.5</td><td>2</td></tr><tr><th>17</th><td>153</td><td>2</td><td>0</td><td>1200</td><td>485000.0</td><td>5</td><td>23.5</td><td>3</td></tr><tr><th>18</th><td>153</td><td>2</td><td>0</td><td>1200</td><td>485000.0</td><td>5</td><td>23.5</td><td>4</td></tr><tr><th>19</th><td>153</td><td>2</td><td>0</td><td>1200</td><td>485000.0</td><td>5</td><td>23.5</td><td>5</td></tr><tr><th>20</th><td>153</td><td>2</td><td>0</td><td>1200</td><td>485000.0</td><td>5</td><td>23.5</td><td>6</td></tr><tr><th>21</th><td>153</td><td>2</td><td>0</td><td>1200</td><td>485000.0</td><td>5</td><td>23.5</td><td>7</td></tr><tr><th>22</th><td>153</td><td>2</td><td>0</td><td>1200</td><td>485000.0</td><td>5</td><td>23.5</td><td>8</td></tr><tr><th>23</th><td>153</td><td>2</td><td>0</td><td>1200</td><td>485000.0</td><td>5</td><td>23.5</td><td>9</td></tr><tr><th>24</th><td>153</td><td>2</td><td>0</td><td>1200</td><td>485000.0</td><td>5</td><td>23.5</td><td>10</td></tr><tr><th>25</th><td>153</td><td>2</td><td>0</td><td>1200</td><td>485000.0</td><td>5</td><td>23.5</td><td>11</td></tr><tr><th>26</th><td>153</td><td>2</td><td>0</td><td>1200</td><td>485000.0</td><td>5</td><td>23.5</td><td>12</td></tr><tr><th>27</th><td>153</td><td>2</td><td>0</td><td>1200</td><td>485000.0</td><td>5</td><td>23.5</td><td>13</td></tr><tr><th>28</th><td>153</td><td>2</td><td>0</td><td>1200</td><td>485000.0</td><td>5</td><td>23.5</td><td>14</td></tr><tr><th>29</th><td>153</td><td>3</td><td>0</td><td>1400</td><td>625000.0</td><td>4</td><td>70.0</td><td>1</td></tr><tr><th>30</th><td>153</td><td>3</td><td>0</td><td>1400</td><td>625000.0</td><td>4</td><td>70.0</td><td>2</td></tr><tr><th>&vellip;</th><td>&vellip;</td><td>&vellip;</td><td>&vellip;</td><td>&vellip;</td><td>&vellip;</td><td>&vellip;</td><td>&vellip;</td><td>&vellip;</td></tr></tbody></table>"
      ],
      "text/latex": [
       "\\begin{tabular}{r|ccccccccc}\n",
       "\t& x1 & race\\_no & surface & distance & prize & race\\_class & win\\_dividend1 & horse\\_no & \\\\\n",
       "\t\\hline\n",
       "\t& Any & Int64 & Int64 & Int64 & Float64 & Int64 & Float64 & Int64 & \\\\\n",
       "\t\\hline\n",
       "\t1 & 153 & 1 & 0 & 1400 & 485000.0 & 5 & 121.0 & 1 & $\\dots$ \\\\\n",
       "\t2 & 153 & 1 & 0 & 1400 & 485000.0 & 5 & 121.0 & 2 & $\\dots$ \\\\\n",
       "\t3 & 153 & 1 & 0 & 1400 & 485000.0 & 5 & 121.0 & 3 & $\\dots$ \\\\\n",
       "\t4 & 153 & 1 & 0 & 1400 & 485000.0 & 5 & 121.0 & 4 & $\\dots$ \\\\\n",
       "\t5 & 153 & 1 & 0 & 1400 & 485000.0 & 5 & 121.0 & 5 & $\\dots$ \\\\\n",
       "\t6 & 153 & 1 & 0 & 1400 & 485000.0 & 5 & 121.0 & 6 & $\\dots$ \\\\\n",
       "\t7 & 153 & 1 & 0 & 1400 & 485000.0 & 5 & 121.0 & 7 & $\\dots$ \\\\\n",
       "\t8 & 153 & 1 & 0 & 1400 & 485000.0 & 5 & 121.0 & 8 & $\\dots$ \\\\\n",
       "\t9 & 153 & 1 & 0 & 1400 & 485000.0 & 5 & 121.0 & 9 & $\\dots$ \\\\\n",
       "\t10 & 153 & 1 & 0 & 1400 & 485000.0 & 5 & 121.0 & 10 & $\\dots$ \\\\\n",
       "\t11 & 153 & 1 & 0 & 1400 & 485000.0 & 5 & 121.0 & 11 & $\\dots$ \\\\\n",
       "\t12 & 153 & 1 & 0 & 1400 & 485000.0 & 5 & 121.0 & 12 & $\\dots$ \\\\\n",
       "\t13 & 153 & 1 & 0 & 1400 & 485000.0 & 5 & 121.0 & 13 & $\\dots$ \\\\\n",
       "\t14 & 153 & 1 & 0 & 1400 & 485000.0 & 5 & 121.0 & 14 & $\\dots$ \\\\\n",
       "\t15 & 153 & 2 & 0 & 1200 & 485000.0 & 5 & 23.5 & 1 & $\\dots$ \\\\\n",
       "\t16 & 153 & 2 & 0 & 1200 & 485000.0 & 5 & 23.5 & 2 & $\\dots$ \\\\\n",
       "\t17 & 153 & 2 & 0 & 1200 & 485000.0 & 5 & 23.5 & 3 & $\\dots$ \\\\\n",
       "\t18 & 153 & 2 & 0 & 1200 & 485000.0 & 5 & 23.5 & 4 & $\\dots$ \\\\\n",
       "\t19 & 153 & 2 & 0 & 1200 & 485000.0 & 5 & 23.5 & 5 & $\\dots$ \\\\\n",
       "\t20 & 153 & 2 & 0 & 1200 & 485000.0 & 5 & 23.5 & 6 & $\\dots$ \\\\\n",
       "\t21 & 153 & 2 & 0 & 1200 & 485000.0 & 5 & 23.5 & 7 & $\\dots$ \\\\\n",
       "\t22 & 153 & 2 & 0 & 1200 & 485000.0 & 5 & 23.5 & 8 & $\\dots$ \\\\\n",
       "\t23 & 153 & 2 & 0 & 1200 & 485000.0 & 5 & 23.5 & 9 & $\\dots$ \\\\\n",
       "\t24 & 153 & 2 & 0 & 1200 & 485000.0 & 5 & 23.5 & 10 & $\\dots$ \\\\\n",
       "\t25 & 153 & 2 & 0 & 1200 & 485000.0 & 5 & 23.5 & 11 & $\\dots$ \\\\\n",
       "\t26 & 153 & 2 & 0 & 1200 & 485000.0 & 5 & 23.5 & 12 & $\\dots$ \\\\\n",
       "\t27 & 153 & 2 & 0 & 1200 & 485000.0 & 5 & 23.5 & 13 & $\\dots$ \\\\\n",
       "\t28 & 153 & 2 & 0 & 1200 & 485000.0 & 5 & 23.5 & 14 & $\\dots$ \\\\\n",
       "\t29 & 153 & 3 & 0 & 1400 & 625000.0 & 4 & 70.0 & 1 & $\\dots$ \\\\\n",
       "\t30 & 153 & 3 & 0 & 1400 & 625000.0 & 4 & 70.0 & 2 & $\\dots$ \\\\\n",
       "\t$\\dots$ & $\\dots$ & $\\dots$ & $\\dots$ & $\\dots$ & $\\dots$ & $\\dots$ & $\\dots$ & $\\dots$ &  \\\\\n",
       "\\end{tabular}\n"
      ],
      "text/plain": [
       "79445×450 DataFrame. Omitted printing of 444 columns\n",
       "│ Row   │ x1  │ race_no │ surface │ distance │ prize    │ race_class │\n",
       "│       │ \u001b[90mAny\u001b[39m │ \u001b[90mInt64\u001b[39m   │ \u001b[90mInt64\u001b[39m   │ \u001b[90mInt64\u001b[39m    │ \u001b[90mFloat64\u001b[39m  │ \u001b[90mInt64\u001b[39m      │\n",
       "├───────┼─────┼─────────┼─────────┼──────────┼──────────┼────────────┤\n",
       "│ 1     │ 153 │ 1       │ 0       │ 1400     │ 485000.0 │ 5          │\n",
       "│ 2     │ 153 │ 1       │ 0       │ 1400     │ 485000.0 │ 5          │\n",
       "│ 3     │ 153 │ 1       │ 0       │ 1400     │ 485000.0 │ 5          │\n",
       "│ 4     │ 153 │ 1       │ 0       │ 1400     │ 485000.0 │ 5          │\n",
       "│ 5     │ 153 │ 1       │ 0       │ 1400     │ 485000.0 │ 5          │\n",
       "│ 6     │ 153 │ 1       │ 0       │ 1400     │ 485000.0 │ 5          │\n",
       "│ 7     │ 153 │ 1       │ 0       │ 1400     │ 485000.0 │ 5          │\n",
       "│ 8     │ 153 │ 1       │ 0       │ 1400     │ 485000.0 │ 5          │\n",
       "│ 9     │ 153 │ 1       │ 0       │ 1400     │ 485000.0 │ 5          │\n",
       "│ 10    │ 153 │ 1       │ 0       │ 1400     │ 485000.0 │ 5          │\n",
       "⋮\n",
       "│ 79435 │ 240 │ 10      │ 0       │ 1600     │ 1.75e6   │ 2          │\n",
       "│ 79436 │ 240 │ 10      │ 0       │ 1600     │ 1.75e6   │ 2          │\n",
       "│ 79437 │ 240 │ 10      │ 0       │ 1600     │ 1.75e6   │ 2          │\n",
       "│ 79438 │ 240 │ 10      │ 0       │ 1600     │ 1.75e6   │ 2          │\n",
       "│ 79439 │ 240 │ 10      │ 0       │ 1600     │ 1.75e6   │ 2          │\n",
       "│ 79440 │ 240 │ 10      │ 0       │ 1600     │ 1.75e6   │ 2          │\n",
       "│ 79441 │ 240 │ 10      │ 0       │ 1600     │ 1.75e6   │ 2          │\n",
       "│ 79442 │ 240 │ 10      │ 0       │ 1600     │ 1.75e6   │ 2          │\n",
       "│ 79443 │ 240 │ 10      │ 0       │ 1600     │ 1.75e6   │ 2          │\n",
       "│ 79444 │ 240 │ 10      │ 0       │ 1600     │ 1.75e6   │ 2          │\n",
       "│ 79445 │ 240 │ 10      │ 0       │ 1600     │ 1.75e6   │ 2          │"
      ]
     },
     "execution_count": 438,
     "metadata": {},
     "output_type": "execute_result"
    }
   ],
   "source": [
    "final_full_data = hcat(full_data, DataFrame(one_hots), makeunique=true)"
   ]
  },
  {
   "cell_type": "code",
   "execution_count": 439,
   "metadata": {},
   "outputs": [
    {
     "name": "stdout",
     "output_type": "stream",
     "text": [
      "missing: 0.0%\n",
      "maximum: 2.5e7\n",
      "minimum: 485000.0\n",
      "median:  850000.0\n",
      "mean:    1.1174729263397404e6\n",
      "std:     1.6697066808360922e6\n"
     ]
    }
   ],
   "source": [
    "summary_stats(full_data[:prize])"
   ]
  },
  {
   "cell_type": "markdown",
   "metadata": {},
   "source": [
    "# Model Selection (Win Probability)\n",
    "We will next fit different models to our data to predict win probability. Since there is no way for us to know the true win probability of a given horse winning specific race, we will evaluate the different models and compare them based on their Brier Score, which evaluates the accuracy of probabilistic predictions. The Brier score is calculated by the mean squared error between the predicted probability of an event and the actual outcome of an event occuring (0 or 1). Since we have an unbalanced dataset (mostly losing outcome (0) examples), we will calculate a balanced error rate of the Brier score, which will equally weigh the winning and losing outcomes."
   ]
  },
  {
   "cell_type": "code",
   "execution_count": 440,
   "metadata": {},
   "outputs": [
    {
     "data": {
      "text/html": [
       "<table class=\"data-frame\"><thead><tr><th></th><th>x1</th><th>race_no</th><th>surface</th><th>distance</th><th>prize</th><th>race_class</th><th>horse_no</th><th>won</th><th>horse_age</th></tr><tr><th></th><th>Any</th><th>Int64</th><th>Int64</th><th>Int64</th><th>Float64</th><th>Int64</th><th>Int64</th><th>Float64</th><th>Int64</th></tr></thead><tbody><p>79,445 rows × 449 columns (omitted printing of 440 columns)</p><tr><th>1</th><td>153</td><td>1</td><td>0</td><td>1400</td><td>485000.0</td><td>5</td><td>1</td><td>0.0</td><td>3</td></tr><tr><th>2</th><td>153</td><td>1</td><td>0</td><td>1400</td><td>485000.0</td><td>5</td><td>2</td><td>0.0</td><td>3</td></tr><tr><th>3</th><td>153</td><td>1</td><td>0</td><td>1400</td><td>485000.0</td><td>5</td><td>3</td><td>0.0</td><td>3</td></tr><tr><th>4</th><td>153</td><td>1</td><td>0</td><td>1400</td><td>485000.0</td><td>5</td><td>4</td><td>0.0</td><td>3</td></tr><tr><th>5</th><td>153</td><td>1</td><td>0</td><td>1400</td><td>485000.0</td><td>5</td><td>5</td><td>0.0</td><td>3</td></tr><tr><th>6</th><td>153</td><td>1</td><td>0</td><td>1400</td><td>485000.0</td><td>5</td><td>6</td><td>0.0</td><td>3</td></tr><tr><th>7</th><td>153</td><td>1</td><td>0</td><td>1400</td><td>485000.0</td><td>5</td><td>7</td><td>0.0</td><td>3</td></tr><tr><th>8</th><td>153</td><td>1</td><td>0</td><td>1400</td><td>485000.0</td><td>5</td><td>8</td><td>1.0</td><td>3</td></tr><tr><th>9</th><td>153</td><td>1</td><td>0</td><td>1400</td><td>485000.0</td><td>5</td><td>9</td><td>0.0</td><td>3</td></tr><tr><th>10</th><td>153</td><td>1</td><td>0</td><td>1400</td><td>485000.0</td><td>5</td><td>10</td><td>0.0</td><td>3</td></tr><tr><th>11</th><td>153</td><td>1</td><td>0</td><td>1400</td><td>485000.0</td><td>5</td><td>11</td><td>0.0</td><td>3</td></tr><tr><th>12</th><td>153</td><td>1</td><td>0</td><td>1400</td><td>485000.0</td><td>5</td><td>12</td><td>0.0</td><td>3</td></tr><tr><th>13</th><td>153</td><td>1</td><td>0</td><td>1400</td><td>485000.0</td><td>5</td><td>13</td><td>0.0</td><td>3</td></tr><tr><th>14</th><td>153</td><td>1</td><td>0</td><td>1400</td><td>485000.0</td><td>5</td><td>14</td><td>0.0</td><td>3</td></tr><tr><th>15</th><td>153</td><td>2</td><td>0</td><td>1200</td><td>485000.0</td><td>5</td><td>1</td><td>0.0</td><td>3</td></tr><tr><th>16</th><td>153</td><td>2</td><td>0</td><td>1200</td><td>485000.0</td><td>5</td><td>2</td><td>0.0</td><td>3</td></tr><tr><th>17</th><td>153</td><td>2</td><td>0</td><td>1200</td><td>485000.0</td><td>5</td><td>3</td><td>0.0</td><td>3</td></tr><tr><th>18</th><td>153</td><td>2</td><td>0</td><td>1200</td><td>485000.0</td><td>5</td><td>4</td><td>0.0</td><td>3</td></tr><tr><th>19</th><td>153</td><td>2</td><td>0</td><td>1200</td><td>485000.0</td><td>5</td><td>5</td><td>1.0</td><td>3</td></tr><tr><th>20</th><td>153</td><td>2</td><td>0</td><td>1200</td><td>485000.0</td><td>5</td><td>6</td><td>0.0</td><td>3</td></tr><tr><th>21</th><td>153</td><td>2</td><td>0</td><td>1200</td><td>485000.0</td><td>5</td><td>7</td><td>0.0</td><td>3</td></tr><tr><th>22</th><td>153</td><td>2</td><td>0</td><td>1200</td><td>485000.0</td><td>5</td><td>8</td><td>0.0</td><td>3</td></tr><tr><th>23</th><td>153</td><td>2</td><td>0</td><td>1200</td><td>485000.0</td><td>5</td><td>9</td><td>0.0</td><td>3</td></tr><tr><th>24</th><td>153</td><td>2</td><td>0</td><td>1200</td><td>485000.0</td><td>5</td><td>10</td><td>0.0</td><td>3</td></tr><tr><th>25</th><td>153</td><td>2</td><td>0</td><td>1200</td><td>485000.0</td><td>5</td><td>11</td><td>0.0</td><td>3</td></tr><tr><th>26</th><td>153</td><td>2</td><td>0</td><td>1200</td><td>485000.0</td><td>5</td><td>12</td><td>0.0</td><td>3</td></tr><tr><th>27</th><td>153</td><td>2</td><td>0</td><td>1200</td><td>485000.0</td><td>5</td><td>13</td><td>0.0</td><td>3</td></tr><tr><th>28</th><td>153</td><td>2</td><td>0</td><td>1200</td><td>485000.0</td><td>5</td><td>14</td><td>0.0</td><td>3</td></tr><tr><th>29</th><td>153</td><td>3</td><td>0</td><td>1400</td><td>625000.0</td><td>4</td><td>1</td><td>0.0</td><td>3</td></tr><tr><th>30</th><td>153</td><td>3</td><td>0</td><td>1400</td><td>625000.0</td><td>4</td><td>2</td><td>0.0</td><td>3</td></tr><tr><th>&vellip;</th><td>&vellip;</td><td>&vellip;</td><td>&vellip;</td><td>&vellip;</td><td>&vellip;</td><td>&vellip;</td><td>&vellip;</td><td>&vellip;</td><td>&vellip;</td></tr></tbody></table>"
      ],
      "text/latex": [
       "\\begin{tabular}{r|cccccccccc}\n",
       "\t& x1 & race\\_no & surface & distance & prize & race\\_class & horse\\_no & won & horse\\_age & \\\\\n",
       "\t\\hline\n",
       "\t& Any & Int64 & Int64 & Int64 & Float64 & Int64 & Int64 & Float64 & Int64 & \\\\\n",
       "\t\\hline\n",
       "\t1 & 153 & 1 & 0 & 1400 & 485000.0 & 5 & 1 & 0.0 & 3 & $\\dots$ \\\\\n",
       "\t2 & 153 & 1 & 0 & 1400 & 485000.0 & 5 & 2 & 0.0 & 3 & $\\dots$ \\\\\n",
       "\t3 & 153 & 1 & 0 & 1400 & 485000.0 & 5 & 3 & 0.0 & 3 & $\\dots$ \\\\\n",
       "\t4 & 153 & 1 & 0 & 1400 & 485000.0 & 5 & 4 & 0.0 & 3 & $\\dots$ \\\\\n",
       "\t5 & 153 & 1 & 0 & 1400 & 485000.0 & 5 & 5 & 0.0 & 3 & $\\dots$ \\\\\n",
       "\t6 & 153 & 1 & 0 & 1400 & 485000.0 & 5 & 6 & 0.0 & 3 & $\\dots$ \\\\\n",
       "\t7 & 153 & 1 & 0 & 1400 & 485000.0 & 5 & 7 & 0.0 & 3 & $\\dots$ \\\\\n",
       "\t8 & 153 & 1 & 0 & 1400 & 485000.0 & 5 & 8 & 1.0 & 3 & $\\dots$ \\\\\n",
       "\t9 & 153 & 1 & 0 & 1400 & 485000.0 & 5 & 9 & 0.0 & 3 & $\\dots$ \\\\\n",
       "\t10 & 153 & 1 & 0 & 1400 & 485000.0 & 5 & 10 & 0.0 & 3 & $\\dots$ \\\\\n",
       "\t11 & 153 & 1 & 0 & 1400 & 485000.0 & 5 & 11 & 0.0 & 3 & $\\dots$ \\\\\n",
       "\t12 & 153 & 1 & 0 & 1400 & 485000.0 & 5 & 12 & 0.0 & 3 & $\\dots$ \\\\\n",
       "\t13 & 153 & 1 & 0 & 1400 & 485000.0 & 5 & 13 & 0.0 & 3 & $\\dots$ \\\\\n",
       "\t14 & 153 & 1 & 0 & 1400 & 485000.0 & 5 & 14 & 0.0 & 3 & $\\dots$ \\\\\n",
       "\t15 & 153 & 2 & 0 & 1200 & 485000.0 & 5 & 1 & 0.0 & 3 & $\\dots$ \\\\\n",
       "\t16 & 153 & 2 & 0 & 1200 & 485000.0 & 5 & 2 & 0.0 & 3 & $\\dots$ \\\\\n",
       "\t17 & 153 & 2 & 0 & 1200 & 485000.0 & 5 & 3 & 0.0 & 3 & $\\dots$ \\\\\n",
       "\t18 & 153 & 2 & 0 & 1200 & 485000.0 & 5 & 4 & 0.0 & 3 & $\\dots$ \\\\\n",
       "\t19 & 153 & 2 & 0 & 1200 & 485000.0 & 5 & 5 & 1.0 & 3 & $\\dots$ \\\\\n",
       "\t20 & 153 & 2 & 0 & 1200 & 485000.0 & 5 & 6 & 0.0 & 3 & $\\dots$ \\\\\n",
       "\t21 & 153 & 2 & 0 & 1200 & 485000.0 & 5 & 7 & 0.0 & 3 & $\\dots$ \\\\\n",
       "\t22 & 153 & 2 & 0 & 1200 & 485000.0 & 5 & 8 & 0.0 & 3 & $\\dots$ \\\\\n",
       "\t23 & 153 & 2 & 0 & 1200 & 485000.0 & 5 & 9 & 0.0 & 3 & $\\dots$ \\\\\n",
       "\t24 & 153 & 2 & 0 & 1200 & 485000.0 & 5 & 10 & 0.0 & 3 & $\\dots$ \\\\\n",
       "\t25 & 153 & 2 & 0 & 1200 & 485000.0 & 5 & 11 & 0.0 & 3 & $\\dots$ \\\\\n",
       "\t26 & 153 & 2 & 0 & 1200 & 485000.0 & 5 & 12 & 0.0 & 3 & $\\dots$ \\\\\n",
       "\t27 & 153 & 2 & 0 & 1200 & 485000.0 & 5 & 13 & 0.0 & 3 & $\\dots$ \\\\\n",
       "\t28 & 153 & 2 & 0 & 1200 & 485000.0 & 5 & 14 & 0.0 & 3 & $\\dots$ \\\\\n",
       "\t29 & 153 & 3 & 0 & 1400 & 625000.0 & 4 & 1 & 0.0 & 3 & $\\dots$ \\\\\n",
       "\t30 & 153 & 3 & 0 & 1400 & 625000.0 & 4 & 2 & 0.0 & 3 & $\\dots$ \\\\\n",
       "\t$\\dots$ & $\\dots$ & $\\dots$ & $\\dots$ & $\\dots$ & $\\dots$ & $\\dots$ & $\\dots$ & $\\dots$ & $\\dots$ &  \\\\\n",
       "\\end{tabular}\n"
      ],
      "text/plain": [
       "79445×449 DataFrame. Omitted printing of 443 columns\n",
       "│ Row   │ x1  │ race_no │ surface │ distance │ prize    │ race_class │\n",
       "│       │ \u001b[90mAny\u001b[39m │ \u001b[90mInt64\u001b[39m   │ \u001b[90mInt64\u001b[39m   │ \u001b[90mInt64\u001b[39m    │ \u001b[90mFloat64\u001b[39m  │ \u001b[90mInt64\u001b[39m      │\n",
       "├───────┼─────┼─────────┼─────────┼──────────┼──────────┼────────────┤\n",
       "│ 1     │ 153 │ 1       │ 0       │ 1400     │ 485000.0 │ 5          │\n",
       "│ 2     │ 153 │ 1       │ 0       │ 1400     │ 485000.0 │ 5          │\n",
       "│ 3     │ 153 │ 1       │ 0       │ 1400     │ 485000.0 │ 5          │\n",
       "│ 4     │ 153 │ 1       │ 0       │ 1400     │ 485000.0 │ 5          │\n",
       "│ 5     │ 153 │ 1       │ 0       │ 1400     │ 485000.0 │ 5          │\n",
       "│ 6     │ 153 │ 1       │ 0       │ 1400     │ 485000.0 │ 5          │\n",
       "│ 7     │ 153 │ 1       │ 0       │ 1400     │ 485000.0 │ 5          │\n",
       "│ 8     │ 153 │ 1       │ 0       │ 1400     │ 485000.0 │ 5          │\n",
       "│ 9     │ 153 │ 1       │ 0       │ 1400     │ 485000.0 │ 5          │\n",
       "│ 10    │ 153 │ 1       │ 0       │ 1400     │ 485000.0 │ 5          │\n",
       "⋮\n",
       "│ 79435 │ 240 │ 10      │ 0       │ 1600     │ 1.75e6   │ 2          │\n",
       "│ 79436 │ 240 │ 10      │ 0       │ 1600     │ 1.75e6   │ 2          │\n",
       "│ 79437 │ 240 │ 10      │ 0       │ 1600     │ 1.75e6   │ 2          │\n",
       "│ 79438 │ 240 │ 10      │ 0       │ 1600     │ 1.75e6   │ 2          │\n",
       "│ 79439 │ 240 │ 10      │ 0       │ 1600     │ 1.75e6   │ 2          │\n",
       "│ 79440 │ 240 │ 10      │ 0       │ 1600     │ 1.75e6   │ 2          │\n",
       "│ 79441 │ 240 │ 10      │ 0       │ 1600     │ 1.75e6   │ 2          │\n",
       "│ 79442 │ 240 │ 10      │ 0       │ 1600     │ 1.75e6   │ 2          │\n",
       "│ 79443 │ 240 │ 10      │ 0       │ 1600     │ 1.75e6   │ 2          │\n",
       "│ 79444 │ 240 │ 10      │ 0       │ 1600     │ 1.75e6   │ 2          │\n",
       "│ 79445 │ 240 │ 10      │ 0       │ 1600     │ 1.75e6   │ 2          │"
      ]
     },
     "execution_count": 440,
     "metadata": {},
     "output_type": "execute_result"
    }
   ],
   "source": [
    "select!(final_full_data, Not(:win_dividend1))"
   ]
  },
  {
   "cell_type": "code",
   "execution_count": 441,
   "metadata": {},
   "outputs": [
    {
     "data": {
      "text/plain": [
       "MSE (generic function with 1 method)"
      ]
     },
     "execution_count": 441,
     "metadata": {},
     "output_type": "execute_result"
    }
   ],
   "source": [
    "function MSE(y, pred)\n",
    "    #Equivalent to Brier score with two classes\n",
    "    mse = []\n",
    "    for (y, y_hat) in zip(y, pred)\n",
    "        append!(mse, (y - y_hat)^2)\n",
    "    end\n",
    "    sum_mse = sum(mse)/length(mse)\n",
    "end"
   ]
  },
  {
   "cell_type": "code",
   "execution_count": 442,
   "metadata": {},
   "outputs": [
    {
     "data": {
      "text/plain": [
       "balanced_brier_score (generic function with 1 method)"
      ]
     },
     "execution_count": 442,
     "metadata": {},
     "output_type": "execute_result"
    }
   ],
   "source": [
    "function balanced_brier_score(y, pred)\n",
    "    win_scores = []\n",
    "    lose_scores = []\n",
    "    for (y, y_hat) in zip(y, pred)\n",
    "        if (y==1.0)\n",
    "            append!(win_scores, (y - y_hat)^2)\n",
    "        else\n",
    "            append!(lose_scores, (y - y_hat)^2)\n",
    "        end\n",
    "    end\n",
    "    score = 0.5*(sum(win_scores)/length(win_scores)) + 0.5*(sum(lose_scores)/length(lose_scores))\n",
    "end"
   ]
  },
  {
   "cell_type": "code",
   "execution_count": 443,
   "metadata": {},
   "outputs": [
    {
     "name": "stdout",
     "output_type": "stream",
     "text": [
      "Size of dataset: 79445\n"
     ]
    },
    {
     "data": {
      "text/plain": [
       "15889-element Array{Float64,1}:\n",
       " 0.0\n",
       " 0.0\n",
       " 0.0\n",
       " 0.0\n",
       " 0.0\n",
       " 0.0\n",
       " 0.0\n",
       " 0.0\n",
       " 1.0\n",
       " 0.0\n",
       " 0.0\n",
       " 0.0\n",
       " 0.0\n",
       " ⋮\n",
       " 0.0\n",
       " 0.0\n",
       " 0.0\n",
       " 0.0\n",
       " 1.0\n",
       " 0.0\n",
       " 0.0\n",
       " 0.0\n",
       " 0.0\n",
       " 0.0\n",
       " 0.0\n",
       " 0.0"
      ]
     },
     "execution_count": 443,
     "metadata": {},
     "output_type": "execute_result"
    }
   ],
   "source": [
    "\n",
    "\"\"\"\n",
    "We start by isolating our y vector and splitting our dataset into train and test sets.\n",
    "\n",
    "\"\"\"\n",
    "\n",
    "# Shuffling the dataset out of order \n",
    "final_full_data = final_full_data[shuffle(1:end), :]\n",
    "\n",
    "train_proportion = 0.8\n",
    "n = size(final_full_data, 1)\n",
    "\n",
    "\n",
    "println(\"Size of dataset: \", string(n))\n",
    "\n",
    "ntrain = convert(Int, round(train_proportion*n))\n",
    "\n",
    "target = final_full_data[:won]\n",
    "X = convert(Matrix, select!(final_full_data, Not(:won)))\n",
    "for i=1:89\n",
    "     X[:, i] = [convert(Float64, X[k, i]) for k=1:79445]\n",
    "end\n",
    "X = convert(Array{Float64}, X)\n",
    "\n",
    "train_x = X[1:ntrain, :]\n",
    "test_x = X[ntrain+1:end, :]\n",
    "train_y = target[1:ntrain, :]\n",
    "test_y = target[ntrain+1:end, :]\n",
    "\n",
    "\n",
    "train_x = hcat(train_x, ones(ntrain))\n",
    "test_x = hcat(test_x, ones(n-ntrain))\n",
    "\n",
    "train_y = [convert(Float64, train_y[i]) for i=1:size(train_y,1)]\n",
    "test_y = [convert(Float64, test_y[i]) for i=1:size(test_y,1)]"
   ]
  },
  {
   "cell_type": "markdown",
   "metadata": {},
   "source": [
    "# Least Squares Regression Model"
   ]
  },
  {
   "cell_type": "code",
   "execution_count": 444,
   "metadata": {},
   "outputs": [
    {
     "name": "stdout",
     "output_type": "stream",
     "text": [
      "Train MSE\t0.07073680744474496\n",
      "Test MSE \t0.0732239528723215\n"
     ]
    }
   ],
   "source": [
    "w_ls = train_x\\train_y\n",
    "\n",
    "train_pred_ls = train_x*w_ls\n",
    "test_pred_ls = test_x*w_ls\n",
    "\n",
    "train_MSE = MSE(train_y, train_pred_ls)\n",
    "test_MSE = MSE(test_y, test_pred_ls)\n",
    "\n",
    "println(\"Train MSE\\t\", train_MSE)\n",
    "println(\"Test MSE \\t\", test_MSE)"
   ]
  },
  {
   "cell_type": "code",
   "execution_count": 445,
   "metadata": {},
   "outputs": [
    {
     "name": "stdout",
     "output_type": "stream",
     "text": [
      "missing: 0.0%\n",
      "maximum: 0.4846136113109647\n",
      "minimum: -0.14923233905407637\n",
      "median:  0.07225545021295306\n",
      "mean:    0.07988415447079003\n",
      "std:     0.04942610709802298\n"
     ]
    }
   ],
   "source": [
    "summary_stats(test_pred_ls)"
   ]
  },
  {
   "cell_type": "code",
   "execution_count": 446,
   "metadata": {},
   "outputs": [],
   "source": [
    "for i=1:length(test_pred_ls)\n",
    "    if (test_pred_ls[i] < 0)\n",
    "        test_pred_ls[i] = 0\n",
    "    elseif (test_pred_ls[i] > 1)\n",
    "        test_pred_ls[i] = 1\n",
    "    end\n",
    "end"
   ]
  },
  {
   "cell_type": "code",
   "execution_count": 447,
   "metadata": {},
   "outputs": [
    {
     "name": "stdout",
     "output_type": "stream",
     "text": [
      "missing: 0.0%\n",
      "maximum: 0.4846136113109647\n",
      "minimum: 0.0\n",
      "median:  0.07225545021295306\n",
      "mean:    0.08018845589566613\n",
      "std:     0.04883618070185414\n"
     ]
    }
   ],
   "source": [
    "summary_stats(test_pred_ls)"
   ]
  },
  {
   "cell_type": "code",
   "execution_count": 448,
   "metadata": {},
   "outputs": [],
   "source": [
    "for i=1:length(train_pred_ls)\n",
    "    if (train_pred_ls[i] < 0)\n",
    "        train_pred_ls[i] = 0\n",
    "    elseif (train_pred_ls[i] > 1)\n",
    "        train_pred_ls[i] = 1\n",
    "    end\n",
    "end"
   ]
  },
  {
   "cell_type": "code",
   "execution_count": 449,
   "metadata": {},
   "outputs": [
    {
     "data": {
      "text/plain": [
       "0.07320742528405139"
      ]
     },
     "execution_count": 449,
     "metadata": {},
     "output_type": "execute_result"
    }
   ],
   "source": [
    "# MSE (also Brier Score)\n",
    "MSE(test_y, test_pred_ls)"
   ]
  },
  {
   "cell_type": "code",
   "execution_count": 450,
   "metadata": {},
   "outputs": [
    {
     "data": {
      "text/plain": [
       "0.4043567108643952"
      ]
     },
     "execution_count": 450,
     "metadata": {},
     "output_type": "execute_result"
    }
   ],
   "source": [
    "balanced_brier_score(test_y, test_pred_ls)"
   ]
  },
  {
   "cell_type": "markdown",
   "metadata": {},
   "source": [
    "# Logistic Regression Model"
   ]
  },
  {
   "cell_type": "code",
   "execution_count": 451,
   "metadata": {},
   "outputs": [
    {
     "data": {
      "text/plain": [
       "\"\\nNext, we will try using a logistic regression model to fit to our data. This model is desirable in this case because \\nthe logistic function maps real values to probabilities, so we will get prediction values in the range [0,1], which \\nmake sense as probability predictions. The Least squares model gave some prediction values slightly outside of this range,\\nwhich is not desirable. We will also use a quadratic regularizer to better avoid overfitting and to reduce the variance \\nof this model.\\n\\n\""
      ]
     },
     "execution_count": 451,
     "metadata": {},
     "output_type": "execute_result"
    }
   ],
   "source": [
    "\"\"\"\n",
    "\n",
    "Next, we will try using a logistic regression model to fit to our data. This model is desirable in this case because \n",
    "the logistic function maps real values to probabilities, so we will get prediction values in the range [0,1], which \n",
    "make sense as probability predictions. The Least squares model gave some prediction values slightly outside of this range,\n",
    "which is not desirable. We will also use a quadratic regularizer to better avoid overfitting and to reduce the variance \n",
    "of this model.\n",
    "\n",
    "\"\"\""
   ]
  },
  {
   "cell_type": "code",
   "execution_count": 452,
   "metadata": {},
   "outputs": [
    {
     "name": "stderr",
     "output_type": "stream",
     "text": [
      "\u001b[32m\u001b[1m  Resolving\u001b[22m\u001b[39m package versions...\n",
      "\u001b[32m\u001b[1mNo Changes\u001b[22m\u001b[39m to `C:\\Users\\Warren\\.julia\\environments\\v1.5\\Project.toml`\n",
      "\u001b[32m\u001b[1mNo Changes\u001b[22m\u001b[39m to `C:\\Users\\Warren\\.julia\\environments\\v1.5\\Manifest.toml`\n",
      "WARNING: redefinition of constant LogisticRegression. This may fail, cause incorrect answers, or produce other errors.\n"
     ]
    },
    {
     "data": {
      "text/plain": [
       "PyObject <class 'sklearn.linear_model._logistic.LogisticRegression'>"
      ]
     },
     "execution_count": 452,
     "metadata": {},
     "output_type": "execute_result"
    }
   ],
   "source": [
    "import Pkg\n",
    "using Pkg\n",
    "Pkg.add(\"ScikitLearn\")\n",
    "using ScikitLearn\n",
    "@sk_import linear_model: LogisticRegression"
   ]
  },
  {
   "cell_type": "code",
   "execution_count": 453,
   "metadata": {},
   "outputs": [
    {
     "data": {
      "text/plain": [
       "PyObject LogisticRegression()"
      ]
     },
     "execution_count": 453,
     "metadata": {},
     "output_type": "execute_result"
    }
   ],
   "source": [
    "log_reg = ScikitLearn.fit!(LogisticRegression(), train_x, train_y)"
   ]
  },
  {
   "cell_type": "code",
   "execution_count": 454,
   "metadata": {},
   "outputs": [
    {
     "name": "stdout",
     "output_type": "stream",
     "text": [
      "missing: 0.0%\n",
      "maximum: 0.1387721136294037\n",
      "minimum: 0.02880595427156518\n",
      "median:  0.08138582865955378\n",
      "mean:    0.08216914333108388\n",
      "std:     0.021098316770744516\n"
     ]
    }
   ],
   "source": [
    "test_pred_logistic = log_reg.predict_proba(test_x)[:,2]\n",
    "summary_stats(test_pred_logistic)"
   ]
  },
  {
   "cell_type": "code",
   "execution_count": 455,
   "metadata": {},
   "outputs": [
    {
     "data": {
      "text/plain": [
       "0.07583743961317907"
      ]
     },
     "execution_count": 455,
     "metadata": {},
     "output_type": "execute_result"
    }
   ],
   "source": [
    "# MSE (also Brier Score)\n",
    "MSE(test_y, test_pred_logistic)"
   ]
  },
  {
   "cell_type": "code",
   "execution_count": 456,
   "metadata": {},
   "outputs": [
    {
     "data": {
      "text/plain": [
       "0.42595070996292544"
      ]
     },
     "execution_count": 456,
     "metadata": {},
     "output_type": "execute_result"
    }
   ],
   "source": [
    "balanced_brier_score(test_y, test_pred_logistic)"
   ]
  },
  {
   "cell_type": "markdown",
   "metadata": {},
   "source": [
    "# Random Forest Regressor Model"
   ]
  },
  {
   "cell_type": "code",
   "execution_count": 457,
   "metadata": {},
   "outputs": [
    {
     "name": "stderr",
     "output_type": "stream",
     "text": [
      "\u001b[32m\u001b[1m  Resolving\u001b[22m\u001b[39m package versions...\n",
      "\u001b[32m\u001b[1mNo Changes\u001b[22m\u001b[39m to `C:\\Users\\Warren\\.julia\\environments\\v1.5\\Project.toml`\n",
      "\u001b[32m\u001b[1mNo Changes\u001b[22m\u001b[39m to `C:\\Users\\Warren\\.julia\\environments\\v1.5\\Manifest.toml`\n"
     ]
    }
   ],
   "source": [
    "Pkg.add(\"DecisionTree\")\n",
    "using DecisionTree"
   ]
  },
  {
   "cell_type": "code",
   "execution_count": 458,
   "metadata": {},
   "outputs": [
    {
     "data": {
      "text/plain": [
       "15889-element Array{Float64,1}:\n",
       " 0.07940730450592526\n",
       " 0.08458014999711243\n",
       " 0.07940730450592526\n",
       " 0.08208119577135656\n",
       " 0.08458014999711243\n",
       " 0.0792243409192073\n",
       " 0.07968253301376942\n",
       " 0.07704680496823893\n",
       " 0.08396489530167263\n",
       " 0.07959547797365062\n",
       " 0.06923944791961681\n",
       " 0.07886457273737936\n",
       " 0.08516795936739374\n",
       " ⋮\n",
       " 0.08375339002156212\n",
       " 0.08127296882871765\n",
       " 0.07575881509403609\n",
       " 0.08391890943356059\n",
       " 0.08464588695895872\n",
       " 0.07886457273737936\n",
       " 0.08479313198343774\n",
       " 0.07610012333753048\n",
       " 0.08265173294289328\n",
       " 0.0763756472671841\n",
       " 0.07356205967460767\n",
       " 0.08059563190901102"
      ]
     },
     "execution_count": 458,
     "metadata": {},
     "output_type": "execute_result"
    }
   ],
   "source": [
    "# n_subfeatures: number of features to consider at random per split (default: -1, sqrt(# features))\n",
    "# n_trees: number of trees to train (default: 10)\n",
    "# partial_sampling: fraction of samples to train each tree on (default: 0.7)\n",
    "# max_depth: maximum depth of the decision trees (default: no maximum)\n",
    "model = build_forest(train_y, train_x, 2, 10, 0.7, 5)\n",
    "\n",
    "# apply learned model\n",
    "test_pred_rf = apply_forest(model, test_x)"
   ]
  },
  {
   "cell_type": "code",
   "execution_count": 459,
   "metadata": {},
   "outputs": [
    {
     "data": {
      "text/plain": [
       "0.42555651187125565"
      ]
     },
     "execution_count": 459,
     "metadata": {},
     "output_type": "execute_result"
    }
   ],
   "source": [
    "balanced_brier_score(test_y, test_pred_rf)"
   ]
  },
  {
   "cell_type": "code",
   "execution_count": 460,
   "metadata": {},
   "outputs": [
    {
     "data": {
      "text/plain": [
       "0.07506708877480811"
      ]
     },
     "execution_count": 460,
     "metadata": {},
     "output_type": "execute_result"
    }
   ],
   "source": [
    "# MSE (also Brier Score)\n",
    "MSE(test_y, test_pred_rf)"
   ]
  },
  {
   "cell_type": "code",
   "execution_count": 461,
   "metadata": {},
   "outputs": [
    {
     "ename": "LoadError",
     "evalue": "UndefVarError: labels not defined",
     "output_type": "error",
     "traceback": [
      "UndefVarError: labels not defined",
      "",
      "Stacktrace:",
      " [1] top-level scope at In[461]:3",
      " [2] include_string(::Function, ::Module, ::String, ::String) at .\\loading.jl:1091"
     ]
    }
   ],
   "source": [
    "# run 3-fold cross validation on regression forest, using 2 random features per split\n",
    "n_subfeatures=2; n_folds=3\n",
    "r2 = nfoldCV_forest(labels, features, n_folds, n_subfeatures)\n",
    "\n",
    "\n",
    "r2 =  nfoldCV_forest(labels, features,\n",
    "                     n_folds,\n",
    "                     n_subfeatures,\n",
    "                     n_trees,\n",
    "                     partial_sampling,\n",
    "                     max_depth,\n",
    "                     min_samples_leaf,\n",
    "                     min_samples_split,\n",
    "                     min_purity_increase;\n",
    "                     verbose = true,\n",
    "                     rng = seed)"
   ]
  },
  {
   "cell_type": "markdown",
   "metadata": {},
   "source": [
    "# Model Visualizations"
   ]
  },
  {
   "cell_type": "code",
   "execution_count": 462,
   "metadata": {},
   "outputs": [
    {
     "data": {
      "text/plain": [
       "win_prob (generic function with 2 methods)"
      ]
     },
     "execution_count": 462,
     "metadata": {},
     "output_type": "execute_result"
    }
   ],
   "source": [
    "# function to calculate win percentage of all horses in input\n",
    "\n",
    "function win_prob(outcomes)\n",
    "    try\n",
    "        return sum(outcomes)/size(outcomes)[1]\n",
    "    catch e\n",
    "        return 0\n",
    "    end \n",
    "end"
   ]
  },
  {
   "cell_type": "code",
   "execution_count": 463,
   "metadata": {},
   "outputs": [
    {
     "data": {
      "image/png": "[encoded data removed]"
     },
     "execution_count": 463,
     "metadata": {},
     "output_type": "execute_result"
    }
   ],
   "source": [
    "histogram(test_pred_ls, title = \"Prediction Values (Least Squares)\", label=\"\")\n",
    "xlabel!(\"Prediction Value\")\n",
    "ylabel!(\"# Ocurrences\")"
   ]
  },
  {
   "cell_type": "code",
   "execution_count": 464,
   "metadata": {},
   "outputs": [
    {
     "data": {
      "image/png": "[encoded data removed]"
     },
     "execution_count": 464,
     "metadata": {},
     "output_type": "execute_result"
    }
   ],
   "source": [
    "bin05 = []\n",
    "bin10 = []\n",
    "bin15 = []\n",
    "bin20 = []\n",
    "bin25 = []\n",
    "bin100 = []\n",
    "\n",
    "for i=1:length(test_y)\n",
    "    if (test_pred_ls[i]<=0.05)\n",
    "        append!(bin05, test_y[i])\n",
    "    elseif(test_pred_ls[i]<=0.10)\n",
    "        append!(bin10, test_y[i])\n",
    "    elseif(test_pred_ls[i]<=0.15)\n",
    "        append!(bin15, test_y[i])\n",
    "    elseif(test_pred_ls[i]<=0.20)\n",
    "        append!(bin20, test_y[i])\n",
    "    elseif(test_pred_ls[i]<=0.25)\n",
    "        append!(bin25, test_y[i])\n",
    "    else\n",
    "        append!(bin100, test_y[i])\n",
    "    end\n",
    "end\n",
    "\n",
    "win_perc_ls = []\n",
    "append!(win_perc_ls, win_prob(bin05))\n",
    "append!(win_perc_ls, win_prob(bin10))\n",
    "append!(win_perc_ls, win_prob(bin15))\n",
    "append!(win_perc_ls, win_prob(bin20))\n",
    "append!(win_perc_ls, win_prob(bin25))\n",
    "append!(win_perc_ls, win_prob(bin100))\n",
    "\n",
    "bar([\"([0.0,0.05])\", \"((0.05,0.10])\", \"((0.10,0.15])\", \"((0.15-0.20])\", \"((0.20-0.25])\", \"((0.25-1.0])\"], win_perc_ls, \n",
    "    title = \"Test Examples Win Percentage (Least Squares)\", label = \"\")\n",
    "xlabel!(\"Prediction Value (From Model)\")\n",
    "ylabel!(\"Win Percentage (%)\")"
   ]
  },
  {
   "cell_type": "code",
   "execution_count": 465,
   "metadata": {},
   "outputs": [
    {
     "data": {
      "image/png": "[encoded data removed]"
     },
     "execution_count": 465,
     "metadata": {},
     "output_type": "execute_result"
    }
   ],
   "source": [
    "histogram(test_pred_logistic, title = \"Prediction Values (Logistic)\", label=\"\")\n",
    "xlabel!(\"Prediction Value\")\n",
    "ylabel!(\"# Ocurrences\")"
   ]
  },
  {
   "cell_type": "code",
   "execution_count": 466,
   "metadata": {},
   "outputs": [
    {
     "data": {
      "image/png": "[encoded data removed]"
     },
     "execution_count": 466,
     "metadata": {},
     "output_type": "execute_result"
    }
   ],
   "source": [
    "bin06 = []\n",
    "bin07 = []\n",
    "bin08 = []\n",
    "bin09 = []\n",
    "bin10 = []\n",
    "bin11 = []\n",
    "bin100 = []\n",
    "\n",
    "for i=1:length(test_y)\n",
    "    if (test_pred_logistic[i]<=0.06)\n",
    "        append!(bin06, test_y[i])\n",
    "    elseif(test_pred_logistic[i]<=0.07)\n",
    "        append!(bin07, test_y[i])\n",
    "    elseif(test_pred_logistic[i]<=0.08)\n",
    "        append!(bin08, test_y[i])\n",
    "    elseif(test_pred_logistic[i]<=0.09)\n",
    "        append!(bin09, test_y[i])\n",
    "    elseif(test_pred_logistic[i]<=0.10)\n",
    "        append!(bin10, test_y[i])\n",
    "    elseif(test_pred_logistic[i]<=0.11)\n",
    "        append!(bin11, test_y[i])\n",
    "    else\n",
    "        append!(bin100, test_y[i])\n",
    "    end\n",
    "end\n",
    "\n",
    "win_perc_log = []\n",
    "append!(win_perc_log, win_prob(bin06))\n",
    "append!(win_perc_log, win_prob(bin07))\n",
    "append!(win_perc_log, win_prob(bin08))\n",
    "append!(win_perc_log, win_prob(bin09))\n",
    "append!(win_perc_log, win_prob(bin10))\n",
    "append!(win_perc_log, win_prob(bin11))\n",
    "append!(win_perc_log, win_prob(bin100))\n",
    "\n",
    "bar([\"([0.0,.06])\", \"((.06,.07])\", \"((.07,.08])\", \"((.08-.09])\", \"((.09-.10])\", \"((.10-.11])\", \"((.11-1.0])\"],\n",
    "    win_perc_log, title = \"Test Examples Win Percentage (Logistic)\", label = \"\")\n",
    "xlabel!(\"Prediction Value (From Model)\")\n",
    "ylabel!(\"Win Percentage (%)\")"
   ]
  },
  {
   "cell_type": "code",
   "execution_count": null,
   "metadata": {},
   "outputs": [],
   "source": []
  }
 ],
 "metadata": {
  "kernelspec": {
   "display_name": "Julia 1.5.1",
   "language": "julia",
   "name": "julia-1.5"
  },
  "language_info": {
   "file_extension": ".jl",
   "mimetype": "application/julia",
   "name": "julia",
   "version": "1.5.1"
  }
 },
 "nbformat": 4,
 "nbformat_minor": 2
}
